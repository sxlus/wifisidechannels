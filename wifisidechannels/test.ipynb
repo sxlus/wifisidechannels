{
 "cells": [
  {
   "cell_type": "markdown",
   "metadata": {},
   "source": [
    "# Tests for Sidechannel attacks on 802.11x\n",
    "\n",
    "## AIM: Keystroke inference via TxBf info and more ;)"
   ]
  },
  {
   "cell_type": "code",
   "execution_count": 3,
   "metadata": {},
   "outputs": [],
   "source": [
    "import wifisidechannels.components as components\n",
    "import pathlib\n",
    "import os\n",
    "\n",
    "extractor = [\n",
    "    components.extractor.ColumnExtractor(\n",
    "        **{\n",
    "            \"KEY\": \"TIME\",\n",
    "            \"COLUMN\": 0,\n",
    "            \"DELIM\": \" \"\n",
    "        }\n",
    "    ),\n",
    "    components.extractor.ColumnExtractor(\n",
    "        **{\n",
    "            \"KEY\": \"SOURCE\",\n",
    "            \"COLUMN\": 1,\n",
    "            \"DELIM\": \" \"\n",
    "        }\n",
    "    ),\n",
    "    components.extractor.ColumnExtractor(\n",
    "        **{\n",
    "            \"KEY\": \"DEST\",\n",
    "            \"COLUMN\": 2,\n",
    "            \"DELIM\": \" \"\n",
    "        }\n",
    "    ),\n",
    "    components.extractor.ColumnExtractor(\n",
    "        **{\n",
    "            \"KEY\": \"VHT\",\n",
    "            \"COLUMN\": 3,\n",
    "            \"DELIM\": \" \"\n",
    "        }\n",
    "    )\n",
    "]\n",
    "\n",
    "parser = [\n",
    "    components.parser.PacketParser(**{\n",
    "                                        \"NAME\": \"VHT\",\n",
    "                                        \"EXTRACTOR\": extractor\n",
    "                                    }\n",
    "    )\n",
    "]\n",
    "\n",
    "proc = components.packet_processor.PacketProcessor(**(\n",
    "        {\n",
    "            \"source\": pathlib.Path(os.path.join(os.getcwd(), \"../test_data\")),\n",
    "            \"parser\": parser\n",
    "        }\n",
    "    )\n",
    ")"
   ]
  },
  {
   "cell_type": "code",
   "execution_count": 26,
   "metadata": {},
   "outputs": [
    {
     "ename": "KeyboardInterrupt",
     "evalue": "",
     "output_type": "error",
     "traceback": [
      "\u001b[0;31m---------------------------------------------------------------------------\u001b[0m",
      "\u001b[0;31mKeyboardInterrupt\u001b[0m                         Traceback (most recent call last)",
      "Cell \u001b[0;32mIn[26], line 1\u001b[0m\n\u001b[0;32m----> 1\u001b[0m \u001b[38;5;28mprint\u001b[39m(\u001b[43mproc\u001b[49m\u001b[38;5;241;43m.\u001b[39;49m\u001b[43mread\u001b[49m\u001b[43m(\u001b[49m\u001b[43mnum\u001b[49m\u001b[38;5;241;43m=\u001b[39;49m\u001b[38;5;241;43m10\u001b[39;49m\u001b[43m)\u001b[49m)\n",
      "File \u001b[0;32m/mnt/UbuntuDisk/RUB_ITS/RUB_SEMESTER_VI/Phishing Bachelor/EMSEC_Physical_Layer/802.11_sidechannels/wifisidechannels/components/packet_processor.py:68\u001b[0m, in \u001b[0;36mPacketProcessor.read\u001b[0;34m(self, name, num)\u001b[0m\n\u001b[1;32m     66\u001b[0m data \u001b[38;5;241m=\u001b[39m []\n\u001b[1;32m     67\u001b[0m \u001b[38;5;28;01mfor\u001b[39;00m source \u001b[38;5;129;01min\u001b[39;00m \u001b[38;5;28mself\u001b[39m\u001b[38;5;241m.\u001b[39mm_source:\n\u001b[0;32m---> 68\u001b[0m     \u001b[38;5;28;01mwith\u001b[39;00m \u001b[38;5;28;43mopen\u001b[39;49m\u001b[43m(\u001b[49m\u001b[43msource\u001b[49m\u001b[43m,\u001b[49m\u001b[43m \u001b[49m\u001b[38;5;124;43m\"\u001b[39;49m\u001b[38;5;124;43mrt\u001b[39;49m\u001b[38;5;124;43m\"\u001b[39;49m\u001b[43m)\u001b[49m \u001b[38;5;28;01mas\u001b[39;00m f:\n\u001b[1;32m     69\u001b[0m         now \u001b[38;5;241m=\u001b[39m datetime\u001b[38;5;241m.\u001b[39mdatetime\u001b[38;5;241m.\u001b[39mnow()\n\u001b[1;32m     70\u001b[0m         \u001b[38;5;28;01mfor\u001b[39;00m _ \u001b[38;5;129;01min\u001b[39;00m \u001b[38;5;28mrange\u001b[39m(num):\n",
      "\u001b[0;31mKeyboardInterrupt\u001b[0m: "
     ]
    }
   ],
   "source": [
    "print(proc.read(num=10))"
   ]
  },
  {
   "cell_type": "code",
   "execution_count": 1,
   "metadata": {},
   "outputs": [
    {
     "name": "stdout",
     "output_type": "stream",
     "text": [
      "\n",
      "timeout 9 '/mnt/UbuntuDisk/RUB_ITS/RUB_SEMESTER_VI/Phishing Bachelor/EMSEC_Physical_Layer/802.11_sidechannels/wifisidechannels/../bash/setup_device.sh' -n wlan0 -l\n"
     ]
    },
    {
     "name": "stdout",
     "output_type": "stream",
     "text": [
      "[<Process name='Process-1' pid=2244050 parent=2244029 started>]\n",
      "HEll0\n",
      "2244029\n",
      "CompletedProcess(args=\"timeout 9 '/mnt/UbuntuDisk/RUB_ITS/RUB_SEMESTER_VI/Phishing Bachelor/EMSEC_Physical_Layer/802.11_sidechannels/wifisidechannels/../bash/setup_device.sh' -n wlan0 -l\", returncode=1, stdout=b'', stderr=b'Capturing on \\'wlan0\\'\\ntshark: The capture session could not be initiated on capture device \"wlan0\" (You don\\'t have permission to capture on that device).\\nPlease check to make sure you have sufficient permissions.\\n\\nOn Debian and Debian derivatives such as Ubuntu, if you have installed Wireshark from a package, try running\\n\\n    sudo dpkg-reconfigure wireshark-common\\n\\nselecting \"<Yes>\" in response to the question\\n\\n    Should non-superusers be able to capture packets?\\n\\nadding yourself to the \"wireshark\" group by running\\n\\n    sudo usermod -a -G wireshark {your username}\\n\\nand then logging out and logging back in again.\\n0 packets captured\\n')\n"
     ]
    }
   ],
   "source": [
    "import wifisidechannels.units.wifi as wifi\n",
    "w = wifi.WiFi()\n",
    "w.m_set_up\n",
    "w.listen()"
   ]
  },
  {
   "cell_type": "code",
   "execution_count": 11,
   "metadata": {},
   "outputs": [
    {
     "data": {
      "text/plain": [
       "datetime.datetime(2024, 5, 1, 19, 41, 46, 98089)"
      ]
     },
     "execution_count": 11,
     "metadata": {},
     "output_type": "execute_result"
    }
   ],
   "source": [
    "s  = '   19 0.750998252 AVMAudio_df:e9:4b → Broadcast    802.11 442 Beacon frame, SN=990, FN=0, Flags=........C, BI=100, SSID=FRITZ!Box 6660 Cable QU 6,0 -69 dBm\\n'\n",
    "import datetime\n",
    "## max 6 digits msec\n",
    "datetime.datetime.strptime(\"May  1, 2024 19:41:46.098089 CEST\", \"%B  %d, %Y %H:%M:%S.%f %Z\")"
   ]
  }
 ],
 "metadata": {
  "kernelspec": {
   "display_name": ".venv",
   "language": "python",
   "name": "python3"
  },
  "language_info": {
   "codemirror_mode": {
    "name": "ipython",
    "version": 3
   },
   "file_extension": ".py",
   "mimetype": "text/x-python",
   "name": "python",
   "nbconvert_exporter": "python",
   "pygments_lexer": "ipython3",
   "version": "3.10.12"
  }
 },
 "nbformat": 4,
 "nbformat_minor": 2
}
