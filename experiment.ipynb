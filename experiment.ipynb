{
 "cells": [
  {
   "cell_type": "code",
   "execution_count": 1,
   "metadata": {},
   "outputs": [
    {
     "data": {
      "text/plain": [
       "True"
      ]
     },
     "execution_count": 1,
     "metadata": {},
     "output_type": "execute_result"
    }
   ],
   "source": [
    "from experiment.experiment import Experiment\n",
    "from experiment.action import Action\n",
    "from hardware.train.train import Train\n",
    "from hardware.motor.motor import Motor\n",
    "from hardware.motor.sensor import Sensor\n",
    "from hardware.motor.motor import Direction\n",
    "\n",
    "from meassure.meassure import Meassure\n",
    "\n",
    "import datetime\n",
    "import time\n",
    "\n",
    "#sens = Sensor(\n",
    "#    serial=\"/dev/ttyACM3\"\n",
    "#)\n",
    "\n",
    "sens = None\n",
    "\n",
    "train = Train()\n",
    "\n",
    "total_steps = 200\n",
    "\n",
    "motor = Motor(\n",
    "    sensors=sens,\n",
    "    motor_params={\n",
    "        'com_port': '/dev/ttyACM0',\n",
    "        'hot':True\n",
    "    },\n",
    "    motor_settings={\n",
    "        'ACC_KVAL' : 2,\n",
    "        'DEC_KVAL' : 0,\n",
    "        'RUN_KVAL' : 4,\n",
    "        'HOLD_KVAL': 0,\n",
    "        'MAX_SPEED': 1000,\n",
    "        'FULL_SPEED': 1000,\n",
    "        'ACC': 1000,\n",
    "        'DEC': 500,\n",
    "        'step_mode': 'FS'\n",
    "    }\n",
    ")\n",
    "\n",
    "meassure = Meassure(\n",
    "    kwargs={\n",
    "        \"interface\": \"wlp0s20f3mon\"\n",
    "    }\n",
    ")\n",
    "\n",
    "train_delta = datetime.timedelta(seconds=1)\n",
    "\n",
    "ACTIONS = [\n",
    "    Action(\n",
    "        name=\"MEASSURE\",\n",
    "        obj=meassure.do,\n",
    "        kwargs={\n",
    "            \"kwargs\":{\n",
    "                \"num\": 5,\n",
    "                \"mac_sa\": \"d8:3a:dd:e5:66:2c\",\n",
    "                \"mac_da\": \"127c6136fcc2\",\n",
    "                \"channel\": 64\n",
    "            }\n",
    "        }\n",
    "    ),\n",
    "    Action(\n",
    "        name=\"MOTOR_STEP\",\n",
    "        obj=motor.drive,\n",
    "        kwargs={\n",
    "            \"direction\": Direction.FWD,\n",
    "            \"steps\": 200,\n",
    "            \"fs_only\": False\n",
    "        }\n",
    "    )\n",
    "]\n",
    "ACTIONS_RESET = [\n",
    "    Action(\n",
    "        name=\"MOTOR_RESET_POS\",\n",
    "        obj=motor.reset,\n",
    "        kwargs={\n",
    "            \"direction\": Direction.BWD,\n",
    "            \"steps\": total_steps,\n",
    "            \"fs_only\":False\n",
    "        }\n",
    "    )\n",
    "]\n",
    "\n",
    "exp = Experiment(\n",
    "    actions=ACTIONS,\n",
    "    actions_reset=ACTIONS_RESET,\n",
    "    delta=datetime.timedelta(seconds=2),\n",
    "    stop_callback=lambda x=total_steps: motor.check_finished(steps=x),\n",
    "    stop_callback_reset=lambda x=total_steps: motor.check_home(steps=x)\n",
    ")\n",
    "train.drive(delta=datetime.timedelta(seconds=1))\n",
    "train.stop()"
   ]
  },
  {
   "cell_type": "code",
   "execution_count": 35,
   "metadata": {},
   "outputs": [
    {
     "name": "stdout",
     "output_type": "stream",
     "text": [
      "* Driving steps: 200\n",
      "---  -200\n"
     ]
    }
   ],
   "source": [
    "motor.drive(\n",
    "    direction=Direction.BWD,\n",
    "    steps=200)\n",
    "motor.m_total_steps = 0"
   ]
  },
  {
   "cell_type": "code",
   "execution_count": 31,
   "metadata": {},
   "outputs": [
    {
     "name": "stdout",
     "output_type": "stream",
     "text": [
      "* Driving steps: 200\n",
      "---  200\n"
     ]
    }
   ],
   "source": [
    "motor.drive(\n",
    "    direction=Direction.FWD,\n",
    "    steps=200)\n",
    "motor.m_total_steps = 0"
   ]
  },
  {
   "cell_type": "markdown",
   "metadata": {},
   "source": [
    "### Sample experiment"
   ]
  },
  {
   "cell_type": "code",
   "execution_count": null,
   "metadata": {},
   "outputs": [
    {
     "name": "stdout",
     "output_type": "stream",
     "text": [
      "<function <lambda> at 0x715856aa9d00>\n"
     ]
    },
    {
     "data": {
      "text/plain": [
       "True"
      ]
     },
     "execution_count": 4,
     "metadata": {},
     "output_type": "execute_result"
    }
   ],
   "source": [
    "exp.reset()"
   ]
  },
  {
   "cell_type": "code",
   "execution_count": 36,
   "metadata": {},
   "outputs": [
    {
     "data": {
      "text/plain": [
       "True"
      ]
     },
     "execution_count": 36,
     "metadata": {},
     "output_type": "execute_result"
    }
   ],
   "source": [
    "train.drive(delta=datetime.timedelta(seconds=10))"
   ]
  }
 ],
 "metadata": {
  "kernelspec": {
   "display_name": "1st-cnn-S7q9xNsp-py3.11",
   "language": "python",
   "name": "python3"
  },
  "language_info": {
   "codemirror_mode": {
    "name": "ipython",
    "version": 3
   },
   "file_extension": ".py",
   "mimetype": "text/x-python",
   "name": "python",
   "nbconvert_exporter": "python",
   "pygments_lexer": "ipython3",
   "version": "3.10.12"
  }
 },
 "nbformat": 4,
 "nbformat_minor": 2
}
