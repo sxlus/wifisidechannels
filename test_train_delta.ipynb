{
 "cells": [
  {
   "cell_type": "code",
   "execution_count": 1,
   "metadata": {},
   "outputs": [],
   "source": [
    "from hardware.train.train import Train\n",
    "import datetime\n",
    "import time"
   ]
  },
  {
   "cell_type": "markdown",
   "metadata": {},
   "source": [
    "### How many on-cycles with some speed on the trafo and train_delta\n",
    "\n",
    "#### DOING SPEED = 2 + train_delta = 1 s === 18 DOMAINS\n",
    "#### DOING SPEED = 2 + train_delta = 0.5 s === 25 DOMAINS"
   ]
  },
  {
   "cell_type": "code",
   "execution_count": 7,
   "metadata": {},
   "outputs": [
    {
     "name": "stdout",
     "output_type": "stream",
     "text": [
      "TRAIN DOING DOMAIN: 1 with delta: 0.5\n",
      "TRAIN DOING DOMAIN: 2 with delta: 0.5\n",
      "TRAIN DOING DOMAIN: 3 with delta: 0.5\n",
      "TRAIN DOING DOMAIN: 4 with delta: 0.5\n",
      "TRAIN DOING DOMAIN: 5 with delta: 0.5\n",
      "TRAIN DOING DOMAIN: 6 with delta: 0.5\n",
      "TRAIN DOING DOMAIN: 7 with delta: 0.5\n",
      "TRAIN DOING DOMAIN: 8 with delta: 0.5\n",
      "TRAIN DOING DOMAIN: 9 with delta: 0.5\n",
      "TRAIN DOING DOMAIN: 10 with delta: 0.5\n",
      "TRAIN DOING DOMAIN: 11 with delta: 0.5\n",
      "TRAIN DOING DOMAIN: 12 with delta: 0.5\n",
      "TRAIN DOING DOMAIN: 13 with delta: 0.5\n",
      "TRAIN DOING DOMAIN: 14 with delta: 0.5\n",
      "TRAIN DOING DOMAIN: 15 with delta: 0.5\n",
      "TRAIN DOING DOMAIN: 16 with delta: 0.5\n",
      "TRAIN DOING DOMAIN: 17 with delta: 0.5\n",
      "TRAIN DOING DOMAIN: 18 with delta: 0.5\n",
      "TRAIN DOING DOMAIN: 19 with delta: 0.5\n",
      "TRAIN DOING DOMAIN: 20 with delta: 0.5\n",
      "TRAIN DOING DOMAIN: 21 with delta: 0.5\n",
      "TRAIN DOING DOMAIN: 22 with delta: 0.5\n",
      "TRAIN DOING DOMAIN: 23 with delta: 0.5\n",
      "TRAIN DOING DOMAIN: 24 with delta: 0.5\n",
      "TRAIN DOING DOMAIN: 25 with delta: 0.5\n"
     ]
    },
    {
     "ename": "KeyboardInterrupt",
     "evalue": "",
     "output_type": "error",
     "traceback": [
      "\u001b[0;31m---------------------------------------------------------------------------\u001b[0m",
      "\u001b[0;31mAttributeError\u001b[0m                            Traceback (most recent call last)",
      "File \u001b[0;32m~/src/wifisidechannels/hardware/train/train.py:30\u001b[0m, in \u001b[0;36mTrain.drive\u001b[0;34m(self, delta)\u001b[0m\n\u001b[1;32m     29\u001b[0m \u001b[38;5;28;01mtry\u001b[39;00m:\n\u001b[0;32m---> 30\u001b[0m     \u001b[38;5;28;43mself\u001b[39;49m\u001b[38;5;241;43m.\u001b[39;49m\u001b[43mconnection\u001b[49m\u001b[38;5;241;43m.\u001b[39;49m\u001b[43mrun_command\u001b[49m(\u001b[38;5;124m\"\u001b[39m\u001b[38;5;124mport 1 state set 1\u001b[39m\u001b[38;5;124m\"\u001b[39m)\n\u001b[1;32m     31\u001b[0m \u001b[38;5;28;01mexcept\u001b[39;00m \u001b[38;5;167;01mException\u001b[39;00m:\n",
      "\u001b[0;31mAttributeError\u001b[0m: 'tuple' object has no attribute 'run_command'",
      "\nDuring handling of the above exception, another exception occurred:\n",
      "\u001b[0;31mKeyboardInterrupt\u001b[0m                         Traceback (most recent call last)",
      "Cell \u001b[0;32mIn[7], line 9\u001b[0m\n\u001b[1;32m      7\u001b[0m \u001b[38;5;28;01mwhile\u001b[39;00m \u001b[38;5;28;01mTrue\u001b[39;00m:\n\u001b[1;32m      8\u001b[0m     \u001b[38;5;28mprint\u001b[39m(\u001b[38;5;124mf\u001b[39m\u001b[38;5;124m\"\u001b[39m\u001b[38;5;124mTRAIN DOING DOMAIN: \u001b[39m\u001b[38;5;132;01m{\u001b[39;00mi\u001b[38;5;132;01m}\u001b[39;00m\u001b[38;5;124m with delta: \u001b[39m\u001b[38;5;132;01m{\u001b[39;00mtrain_delta\u001b[38;5;241m.\u001b[39mtotal_seconds()\u001b[38;5;132;01m}\u001b[39;00m\u001b[38;5;124m\"\u001b[39m)\n\u001b[0;32m----> 9\u001b[0m     \u001b[43mtrain\u001b[49m\u001b[38;5;241;43m.\u001b[39;49m\u001b[43mdrive\u001b[49m\u001b[43m(\u001b[49m\u001b[43mdelta\u001b[49m\u001b[38;5;241;43m=\u001b[39;49m\u001b[43mtrain_delta\u001b[49m\u001b[43m)\u001b[49m\n\u001b[1;32m     10\u001b[0m     \u001b[38;5;66;03m#time.sleep(train_delta.total_seconds() + 1)\u001b[39;00m\n\u001b[1;32m     11\u001b[0m     i \u001b[38;5;241m+\u001b[39m\u001b[38;5;241m=\u001b[39m \u001b[38;5;241m1\u001b[39m\n",
      "File \u001b[0;32m~/src/wifisidechannels/hardware/train/train.py:32\u001b[0m, in \u001b[0;36mTrain.drive\u001b[0;34m(self, delta)\u001b[0m\n\u001b[1;32m     30\u001b[0m     \u001b[38;5;28mself\u001b[39m\u001b[38;5;241m.\u001b[39mconnection\u001b[38;5;241m.\u001b[39mrun_command(\u001b[38;5;124m\"\u001b[39m\u001b[38;5;124mport 1 state set 1\u001b[39m\u001b[38;5;124m\"\u001b[39m)\n\u001b[1;32m     31\u001b[0m \u001b[38;5;28;01mexcept\u001b[39;00m \u001b[38;5;167;01mException\u001b[39;00m:\n\u001b[0;32m---> 32\u001b[0m     \u001b[38;5;28mself\u001b[39m\u001b[38;5;241m.\u001b[39mconnection \u001b[38;5;241m=\u001b[39m \u001b[43mconnect\u001b[49m\u001b[38;5;241;43m.\u001b[39;49m\u001b[43mSSHConnector\u001b[49m\u001b[43m(\u001b[49m\u001b[43mip\u001b[49m\u001b[38;5;241;43m=\u001b[39;49m\u001b[38;5;28;43mself\u001b[39;49m\u001b[38;5;241;43m.\u001b[39;49m\u001b[43mm_ip\u001b[49m\u001b[43m,\u001b[49m\u001b[43m \u001b[49m\u001b[43mport\u001b[49m\u001b[38;5;241;43m=\u001b[39;49m\u001b[38;5;28;43mself\u001b[39;49m\u001b[38;5;241;43m.\u001b[39;49m\u001b[43mm_port\u001b[49m\u001b[43m,\u001b[49m\u001b[43m \u001b[49m\u001b[43musername\u001b[49m\u001b[38;5;241;43m=\u001b[39;49m\u001b[38;5;28;43mself\u001b[39;49m\u001b[38;5;241;43m.\u001b[39;49m\u001b[43mm_username\u001b[49m\u001b[43m,\u001b[49m\u001b[43m \u001b[49m\u001b[43mpassword\u001b[49m\u001b[38;5;241;43m=\u001b[39;49m\u001b[38;5;28;43mself\u001b[39;49m\u001b[38;5;241;43m.\u001b[39;49m\u001b[43mm_password\u001b[49m\u001b[43m,\u001b[49m\u001b[43m \u001b[49m\u001b[43mhot\u001b[49m\u001b[38;5;241;43m=\u001b[39;49m\u001b[38;5;28;43;01mTrue\u001b[39;49;00m\u001b[43m)\u001b[49m\u001b[38;5;241m.\u001b[39mrun_command(\u001b[38;5;124m\"\u001b[39m\u001b[38;5;124mport 1 state set 1\u001b[39m\u001b[38;5;124m\"\u001b[39m)\n\u001b[1;32m     33\u001b[0m \u001b[38;5;28;01mif\u001b[39;00m delta \u001b[38;5;129;01mis\u001b[39;00m \u001b[38;5;129;01mnot\u001b[39;00m \u001b[38;5;28;01mNone\u001b[39;00m:\n\u001b[1;32m     34\u001b[0m     time\u001b[38;5;241m.\u001b[39msleep(delta\u001b[38;5;241m.\u001b[39mtotal_seconds())\n",
      "File \u001b[0;32m~/src/wifisidechannels/hardware/train/connect.py:62\u001b[0m, in \u001b[0;36mSSHConnector.__init__\u001b[0;34m(self, ip, port, username, password, keyfile, hot)\u001b[0m\n\u001b[1;32m     60\u001b[0m \u001b[38;5;28;01mif\u001b[39;00m hot:\n\u001b[1;32m     61\u001b[0m     \u001b[38;5;28;01mtry\u001b[39;00m:\n\u001b[0;32m---> 62\u001b[0m         \u001b[43mclient\u001b[49m\u001b[38;5;241;43m.\u001b[39;49m\u001b[43mconnect\u001b[49m\u001b[43m(\u001b[49m\n\u001b[1;32m     63\u001b[0m \u001b[43m            \u001b[49m\u001b[43mhostname\u001b[49m\u001b[38;5;241;43m=\u001b[39;49m\u001b[43mip\u001b[49m\u001b[43m,\u001b[49m\n\u001b[1;32m     64\u001b[0m \u001b[43m            \u001b[49m\u001b[43mport\u001b[49m\u001b[38;5;241;43m=\u001b[39;49m\u001b[43mport\u001b[49m\u001b[43m,\u001b[49m\n\u001b[1;32m     65\u001b[0m \u001b[43m            \u001b[49m\u001b[43musername\u001b[49m\u001b[38;5;241;43m=\u001b[39;49m\u001b[43musername\u001b[49m\u001b[43m,\u001b[49m\n\u001b[1;32m     66\u001b[0m \u001b[43m            \u001b[49m\u001b[43mpassword\u001b[49m\u001b[38;5;241;43m=\u001b[39;49m\u001b[43mpassword\u001b[49m\u001b[43m,\u001b[49m\n\u001b[1;32m     67\u001b[0m \u001b[43m            \u001b[49m\u001b[43mkey_filename\u001b[49m\u001b[38;5;241;43m=\u001b[39;49m\u001b[38;5;28;43mstr\u001b[39;49m\u001b[43m(\u001b[49m\u001b[43mkeyfile\u001b[49m\u001b[43m)\u001b[49m\u001b[43m \u001b[49m\u001b[38;5;28;43;01mif\u001b[39;49;00m\u001b[43m \u001b[49m\u001b[43mkeyfile\u001b[49m\u001b[43m \u001b[49m\u001b[38;5;28;43;01melse\u001b[39;49;00m\u001b[43m \u001b[49m\u001b[38;5;28;43;01mNone\u001b[39;49;00m\u001b[43m,\u001b[49m\n\u001b[1;32m     68\u001b[0m \u001b[43m            \u001b[49m\u001b[43mlook_for_keys\u001b[49m\u001b[38;5;241;43m=\u001b[39;49m\u001b[38;5;28;43;01mFalse\u001b[39;49;00m\u001b[43m,\u001b[49m\n\u001b[1;32m     69\u001b[0m \u001b[43m        \u001b[49m\u001b[43m)\u001b[49m\n\u001b[1;32m     70\u001b[0m     \u001b[38;5;28;01mexcept\u001b[39;00m paramiko\u001b[38;5;241m.\u001b[39mSSHException \u001b[38;5;28;01mas\u001b[39;00m e:\n\u001b[1;32m     71\u001b[0m         \u001b[38;5;28;01mif\u001b[39;00m \u001b[38;5;129;01mnot\u001b[39;00m password:\n",
      "File \u001b[0;32m~/.cache/pypoetry/virtualenvs/wifisidechannels-sEVZrtBk-py3.10/lib/python3.10/site-packages/paramiko/client.py:451\u001b[0m, in \u001b[0;36mSSHClient.connect\u001b[0;34m(self, hostname, port, username, password, pkey, key_filename, timeout, allow_agent, look_for_keys, compress, sock, gss_auth, gss_kex, gss_deleg_creds, gss_host, banner_timeout, auth_timeout, channel_timeout, gss_trust_dns, passphrase, disabled_algorithms, transport_factory, auth_strategy)\u001b[0m\n\u001b[1;32m    448\u001b[0m     other_types \u001b[38;5;241m=\u001b[39m [x \u001b[38;5;28;01mfor\u001b[39;00m x \u001b[38;5;129;01min\u001b[39;00m sec_opts\u001b[38;5;241m.\u001b[39mkey_types \u001b[38;5;28;01mif\u001b[39;00m x \u001b[38;5;241m!=\u001b[39m keytype]\n\u001b[1;32m    449\u001b[0m     sec_opts\u001b[38;5;241m.\u001b[39mkey_types \u001b[38;5;241m=\u001b[39m [keytype] \u001b[38;5;241m+\u001b[39m other_types\n\u001b[0;32m--> 451\u001b[0m \u001b[43mt\u001b[49m\u001b[38;5;241;43m.\u001b[39;49m\u001b[43mstart_client\u001b[49m\u001b[43m(\u001b[49m\u001b[43mtimeout\u001b[49m\u001b[38;5;241;43m=\u001b[39;49m\u001b[43mtimeout\u001b[49m\u001b[43m)\u001b[49m\n\u001b[1;32m    453\u001b[0m \u001b[38;5;66;03m# If GSS-API Key Exchange is performed we are not required to check the\u001b[39;00m\n\u001b[1;32m    454\u001b[0m \u001b[38;5;66;03m# host key, because the host is authenticated via GSS-API / SSPI as\u001b[39;00m\n\u001b[1;32m    455\u001b[0m \u001b[38;5;66;03m# well as our client.\u001b[39;00m\n\u001b[1;32m    456\u001b[0m \u001b[38;5;28;01mif\u001b[39;00m \u001b[38;5;129;01mnot\u001b[39;00m \u001b[38;5;28mself\u001b[39m\u001b[38;5;241m.\u001b[39m_transport\u001b[38;5;241m.\u001b[39mgss_kex_used:\n",
      "File \u001b[0;32m~/.cache/pypoetry/virtualenvs/wifisidechannels-sEVZrtBk-py3.10/lib/python3.10/site-packages/paramiko/transport.py:748\u001b[0m, in \u001b[0;36mTransport.start_client\u001b[0;34m(self, event, timeout)\u001b[0m\n\u001b[1;32m    746\u001b[0m max_time \u001b[38;5;241m=\u001b[39m time\u001b[38;5;241m.\u001b[39mtime() \u001b[38;5;241m+\u001b[39m timeout \u001b[38;5;28;01mif\u001b[39;00m timeout \u001b[38;5;129;01mis\u001b[39;00m \u001b[38;5;129;01mnot\u001b[39;00m \u001b[38;5;28;01mNone\u001b[39;00m \u001b[38;5;28;01melse\u001b[39;00m \u001b[38;5;28;01mNone\u001b[39;00m\n\u001b[1;32m    747\u001b[0m \u001b[38;5;28;01mwhile\u001b[39;00m \u001b[38;5;28;01mTrue\u001b[39;00m:\n\u001b[0;32m--> 748\u001b[0m     \u001b[43mevent\u001b[49m\u001b[38;5;241;43m.\u001b[39;49m\u001b[43mwait\u001b[49m\u001b[43m(\u001b[49m\u001b[38;5;241;43m0.1\u001b[39;49m\u001b[43m)\u001b[49m\n\u001b[1;32m    749\u001b[0m     \u001b[38;5;28;01mif\u001b[39;00m \u001b[38;5;129;01mnot\u001b[39;00m \u001b[38;5;28mself\u001b[39m\u001b[38;5;241m.\u001b[39mactive:\n\u001b[1;32m    750\u001b[0m         e \u001b[38;5;241m=\u001b[39m \u001b[38;5;28mself\u001b[39m\u001b[38;5;241m.\u001b[39mget_exception()\n",
      "File \u001b[0;32m/usr/lib/python3.10/threading.py:607\u001b[0m, in \u001b[0;36mEvent.wait\u001b[0;34m(self, timeout)\u001b[0m\n\u001b[1;32m    605\u001b[0m signaled \u001b[38;5;241m=\u001b[39m \u001b[38;5;28mself\u001b[39m\u001b[38;5;241m.\u001b[39m_flag\n\u001b[1;32m    606\u001b[0m \u001b[38;5;28;01mif\u001b[39;00m \u001b[38;5;129;01mnot\u001b[39;00m signaled:\n\u001b[0;32m--> 607\u001b[0m     signaled \u001b[38;5;241m=\u001b[39m \u001b[38;5;28;43mself\u001b[39;49m\u001b[38;5;241;43m.\u001b[39;49m\u001b[43m_cond\u001b[49m\u001b[38;5;241;43m.\u001b[39;49m\u001b[43mwait\u001b[49m\u001b[43m(\u001b[49m\u001b[43mtimeout\u001b[49m\u001b[43m)\u001b[49m\n\u001b[1;32m    608\u001b[0m \u001b[38;5;28;01mreturn\u001b[39;00m signaled\n",
      "File \u001b[0;32m/usr/lib/python3.10/threading.py:324\u001b[0m, in \u001b[0;36mCondition.wait\u001b[0;34m(self, timeout)\u001b[0m\n\u001b[1;32m    322\u001b[0m \u001b[38;5;28;01melse\u001b[39;00m:\n\u001b[1;32m    323\u001b[0m     \u001b[38;5;28;01mif\u001b[39;00m timeout \u001b[38;5;241m>\u001b[39m \u001b[38;5;241m0\u001b[39m:\n\u001b[0;32m--> 324\u001b[0m         gotit \u001b[38;5;241m=\u001b[39m \u001b[43mwaiter\u001b[49m\u001b[38;5;241;43m.\u001b[39;49m\u001b[43macquire\u001b[49m\u001b[43m(\u001b[49m\u001b[38;5;28;43;01mTrue\u001b[39;49;00m\u001b[43m,\u001b[49m\u001b[43m \u001b[49m\u001b[43mtimeout\u001b[49m\u001b[43m)\u001b[49m\n\u001b[1;32m    325\u001b[0m     \u001b[38;5;28;01melse\u001b[39;00m:\n\u001b[1;32m    326\u001b[0m         gotit \u001b[38;5;241m=\u001b[39m waiter\u001b[38;5;241m.\u001b[39macquire(\u001b[38;5;28;01mFalse\u001b[39;00m)\n",
      "\u001b[0;31mKeyboardInterrupt\u001b[0m: "
     ]
    }
   ],
   "source": [
    "TRAIN_DELTA_SEC = 0.5\n",
    "\n",
    "train_delta = datetime.timedelta(seconds=TRAIN_DELTA_SEC)\n",
    "train = Train()\n",
    "\n",
    "i = 1\n",
    "while True:\n",
    "    print(f\"TRAIN DOING DOMAIN: {i} with delta: {train_delta.total_seconds()}\")\n",
    "    train.drive(delta=train_delta)\n",
    "    #time.sleep(train_delta.total_seconds() + 1)\n",
    "    i += 1"
   ]
  }
 ],
 "metadata": {
  "kernelspec": {
   "display_name": "wifisidechannels-sEVZrtBk-py3.10",
   "language": "python",
   "name": "python3"
  },
  "language_info": {
   "codemirror_mode": {
    "name": "ipython",
    "version": 3
   },
   "file_extension": ".py",
   "mimetype": "text/x-python",
   "name": "python",
   "nbconvert_exporter": "python",
   "pygments_lexer": "ipython3",
   "version": "3.10.12"
  }
 },
 "nbformat": 4,
 "nbformat_minor": 2
}
