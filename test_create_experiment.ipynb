{
 "cells": [
  {
   "cell_type": "code",
   "execution_count": 23,
   "metadata": {},
   "outputs": [],
   "source": [
    "from experiment.experiment import NumericalPasswordSCExperiment\n",
    "from meassure.meassure import Meassure\n",
    "from hardware.motor.motor import Motor\n",
    "from hardware.motor.motor import Direction\n",
    "import time"
   ]
  },
  {
   "cell_type": "code",
   "execution_count": 24,
   "metadata": {},
   "outputs": [],
   "source": [
    "SPEED = 1000\n",
    "exp = NumericalPasswordSCExperiment()\n",
    "meassure = Meassure(\n",
    "    kwargs = {\n",
    "        \"interface\": \"wlp0s20f3\",\n",
    "        \"channel\": 44,\n",
    "        \"num\": 1,\n",
    "        \"mac_sa\": \"d83add30620c\"\n",
    "    })\n",
    "motor = Motor(\n",
    "    sensors=None,\n",
    "    motor_params={\n",
    "        'com_port': '/dev/ttyACM0',\n",
    "    },\n",
    "    motor_settings={\n",
    "        'ACC_KVAL' : 40,\n",
    "        'DEC_KVAL' : 40,\n",
    "        'RUN_KVAL' : 40,\n",
    "        'HOLD_KVAL': 10,\n",
    "        'MAX_SPEED': SPEED,\n",
    "        'FULL_SPEED': SPEED,\n",
    "        'ACC': 1000,\n",
    "        'DEC': 1000,\n",
    "        'step_mode': 'FS'\n",
    "    }\n",
    ")"
   ]
  },
  {
   "cell_type": "markdown",
   "metadata": {},
   "source": [
    "## TIME <=> STEPS\n",
    "\n",
    "speed = 1000 & steps = 8000 -->"
   ]
  },
  {
   "cell_type": "code",
   "execution_count": 31,
   "metadata": {},
   "outputs": [
    {
     "name": "stdout",
     "output_type": "stream",
     "text": [
      "[Motor][drive] encountered error: Arduino answered with wrong order. Expected 102. Received 97\n"
     ]
    },
    {
     "data": {
      "text/plain": [
       "False"
      ]
     },
     "execution_count": 31,
     "metadata": {},
     "output_type": "execute_result"
    }
   ],
   "source": [
    "motor.drive(\n",
    "    direction = Direction.FWD,\n",
    "    steps = 2000\n",
    ")"
   ]
  },
  {
   "cell_type": "code",
   "execution_count": 229,
   "metadata": {},
   "outputs": [
    {
     "name": "stdout",
     "output_type": "stream",
     "text": [
      "32258\n"
     ]
    }
   ],
   "source": [
    "print(motor.m_driver.get_status(0)[0])"
   ]
  },
  {
   "cell_type": "code",
   "execution_count": 14,
   "metadata": {},
   "outputs": [
    {
     "data": {
      "text/plain": [
       "True"
      ]
     },
     "execution_count": 14,
     "metadata": {},
     "output_type": "execute_result"
    }
   ],
   "source": [
    "motor.drive(\n",
    "    direction = Direction.BWD,\n",
    "    steps = 2000\n",
    ")"
   ]
  },
  {
   "cell_type": "code",
   "execution_count": 96,
   "metadata": {},
   "outputs": [
    {
     "name": "stdout",
     "output_type": "stream",
     "text": [
      "* Driving steps: 7000\n",
      "---  7000\n",
      "* Driving steps: 7000\n",
      "---  0\n",
      "* Driving steps: 7000\n",
      "---  7000\n",
      "* Driving steps: 7000\n",
      "---  0\n",
      "* Driving steps: 7000\n",
      "---  7000\n",
      "* Driving steps: 7000\n",
      "---  0\n",
      "* Driving steps: 7000\n",
      "---  7000\n",
      "* Driving steps: 7000\n",
      "---  0\n"
     ]
    },
    {
     "ename": "KeyboardInterrupt",
     "evalue": "",
     "output_type": "error",
     "traceback": [
      "\u001b[0;31m---------------------------------------------------------------------------\u001b[0m",
      "\u001b[0;31mKeyboardInterrupt\u001b[0m                         Traceback (most recent call last)",
      "Cell \u001b[0;32mIn[96], line 14\u001b[0m\n\u001b[1;32m      8\u001b[0m     time\u001b[38;5;241m.\u001b[39msleep((TOTAL_STEPS\u001b[38;5;241m/\u001b[39m\u001b[38;5;241m/\u001b[39m\u001b[38;5;241m500\u001b[39m) \u001b[38;5;241m+\u001b[39m \u001b[38;5;241m1\u001b[39m)\n\u001b[1;32m     10\u001b[0m     motor\u001b[38;5;241m.\u001b[39mdrive(\n\u001b[1;32m     11\u001b[0m     direction \u001b[38;5;241m=\u001b[39m Direction\u001b[38;5;241m.\u001b[39mBWD,\n\u001b[1;32m     12\u001b[0m     steps \u001b[38;5;241m=\u001b[39m TOTAL_STEPS\n\u001b[1;32m     13\u001b[0m )\n\u001b[0;32m---> 14\u001b[0m     \u001b[43mtime\u001b[49m\u001b[38;5;241;43m.\u001b[39;49m\u001b[43msleep\u001b[49m\u001b[43m(\u001b[49m\u001b[43m(\u001b[49m\u001b[43mTOTAL_STEPS\u001b[49m\u001b[38;5;241;43m/\u001b[39;49m\u001b[38;5;241;43m/\u001b[39;49m\u001b[38;5;241;43m500\u001b[39;49m\u001b[43m)\u001b[49m\u001b[43m \u001b[49m\u001b[38;5;241;43m+\u001b[39;49m\u001b[43m \u001b[49m\u001b[38;5;241;43m1\u001b[39;49m\u001b[43m)\u001b[49m\n",
      "\u001b[0;31mKeyboardInterrupt\u001b[0m: "
     ]
    }
   ],
   "source": [
    "TOTAL_STEPS = 7000\n",
    "\n",
    "for i in range(10):\n",
    "    motor.drive(\n",
    "    direction = Direction.FWD,\n",
    "    steps = TOTAL_STEPS\n",
    ")    \n",
    "    #time.sleep((TOTAL_STEPS//SPEED) + 1)\n",
    "\n",
    "    motor.drive(\n",
    "    direction = Direction.BWD,\n",
    "    steps = TOTAL_STEPS\n",
    ")\n",
    "   #time.sleep((TOTAL_STEPS//SPEED) + 1)\n"
   ]
  },
  {
   "cell_type": "code",
   "execution_count": 3,
   "metadata": {},
   "outputs": [
    {
     "ename": "KeyboardInterrupt",
     "evalue": "",
     "output_type": "error",
     "traceback": [
      "\u001b[0;31m---------------------------------------------------------------------------\u001b[0m",
      "\u001b[0;31mKeyboardInterrupt\u001b[0m                         Traceback (most recent call last)",
      "Cell \u001b[0;32mIn[3], line 1\u001b[0m\n\u001b[0;32m----> 1\u001b[0m \u001b[43mmotor\u001b[49m\u001b[38;5;241;43m.\u001b[39;49m\u001b[43mreset\u001b[49m\u001b[43m(\u001b[49m\n\u001b[1;32m      2\u001b[0m \u001b[43m    \u001b[49m\u001b[43mdirection\u001b[49m\u001b[38;5;241;43m=\u001b[39;49m\u001b[43mDirection\u001b[49m\u001b[38;5;241;43m.\u001b[39;49m\u001b[43mBWD\u001b[49m\u001b[43m,\u001b[49m\n\u001b[1;32m      3\u001b[0m \u001b[43m    \u001b[49m\u001b[43mgo_until\u001b[49m\u001b[38;5;241;43m=\u001b[39;49m\u001b[38;5;28;43;01mTrue\u001b[39;49;00m\u001b[43m,\u001b[49m\n\u001b[1;32m      4\u001b[0m \u001b[43m    \u001b[49m\u001b[43mspeed\u001b[49m\u001b[38;5;241;43m=\u001b[39;49m\u001b[38;5;241;43m500\u001b[39;49m\n\u001b[1;32m      5\u001b[0m \u001b[43m)\u001b[49m\n\u001b[1;32m      6\u001b[0m \u001b[38;5;28mprint\u001b[39m(motor\u001b[38;5;241m.\u001b[39mm_total_steps)\n",
      "File \u001b[0;32m~/src/wifisidechannels/hardware/motor/motor.py:149\u001b[0m, in \u001b[0;36mMotor.reset\u001b[0;34m(self, direction, speed, steps, delta, motor_id, fs_only, go_until)\u001b[0m\n\u001b[1;32m    140\u001b[0m     \u001b[38;5;28;01mreturn\u001b[39;00m \u001b[38;5;28mself\u001b[39m\u001b[38;5;241m.\u001b[39mdrive(\n\u001b[1;32m    141\u001b[0m         direction\u001b[38;5;241m=\u001b[39mdirection,\n\u001b[1;32m    142\u001b[0m         speed\u001b[38;5;241m=\u001b[39mspeed,\n\u001b[0;32m   (...)\u001b[0m\n\u001b[1;32m    146\u001b[0m         fs_only\u001b[38;5;241m=\u001b[39mfs_only\n\u001b[1;32m    147\u001b[0m     )\n\u001b[1;32m    148\u001b[0m \u001b[38;5;28;01melse\u001b[39;00m:\n\u001b[0;32m--> 149\u001b[0m     \u001b[38;5;28;43mself\u001b[39;49m\u001b[38;5;241;43m.\u001b[39;49m\u001b[43mm_driver\u001b[49m\u001b[38;5;241;43m.\u001b[39;49m\u001b[43mgo_until\u001b[49m\u001b[43m(\u001b[49m\n\u001b[1;32m    150\u001b[0m \u001b[43m        \u001b[49m\u001b[43mboard\u001b[49m\u001b[38;5;241;43m=\u001b[39;49m\u001b[43mmotor_id\u001b[49m\u001b[43m \u001b[49m\u001b[38;5;28;43;01mif\u001b[39;49;00m\u001b[43m \u001b[49m\u001b[43mmotor_id\u001b[49m\u001b[43m \u001b[49m\u001b[38;5;129;43;01mis\u001b[39;49;00m\u001b[43m \u001b[49m\u001b[38;5;129;43;01mnot\u001b[39;49;00m\u001b[43m \u001b[49m\u001b[38;5;28;43;01mNone\u001b[39;49;00m\u001b[43m \u001b[49m\u001b[38;5;28;43;01melse\u001b[39;49;00m\u001b[43m \u001b[49m\u001b[38;5;241;43m0\u001b[39;49m\u001b[43m,\u001b[49m\n\u001b[1;32m    151\u001b[0m \u001b[43m        \u001b[49m\u001b[43mspeed\u001b[49m\u001b[38;5;241;43m=\u001b[39;49m\u001b[43mspeed\u001b[49m\u001b[43m,\u001b[49m\n\u001b[1;32m    152\u001b[0m \u001b[43m        \u001b[49m\u001b[43maction\u001b[49m\u001b[38;5;241;43m=\u001b[39;49m\u001b[38;5;124;43m\"\u001b[39;49m\u001b[38;5;124;43mreset_abspos\u001b[39;49m\u001b[38;5;124;43m\"\u001b[39;49m\u001b[43m,\u001b[49m\n\u001b[1;32m    153\u001b[0m \u001b[43m        \u001b[49m\u001b[43mdirection\u001b[49m\u001b[38;5;241;43m=\u001b[39;49m\u001b[43mdirection\u001b[49m\u001b[38;5;241;43m.\u001b[39;49m\u001b[43mvalue\u001b[49m\n\u001b[1;32m    154\u001b[0m \u001b[43m    \u001b[49m\u001b[43m)\u001b[49m\n\u001b[1;32m    155\u001b[0m     \u001b[38;5;28mself\u001b[39m\u001b[38;5;241m.\u001b[39mm_total_steps \u001b[38;5;241m=\u001b[39m \u001b[38;5;241m0\u001b[39m\n\u001b[1;32m    156\u001b[0m     \u001b[38;5;28;01mreturn\u001b[39;00m \u001b[38;5;28;01mTrue\u001b[39;00m\n",
      "File \u001b[0;32m~/src/wifisidechannels/hardware/motor/fastdriver.py:265\u001b[0m, in \u001b[0;36mFastdriverController.go_until\u001b[0;34m(self, board, speed, action, direction)\u001b[0m\n\u001b[1;32m    263\u001b[0m \u001b[38;5;28mself\u001b[39m\u001b[38;5;241m.\u001b[39msend_command(\u001b[38;5;124m'\u001b[39m\u001b[38;5;124mGO_UNTIL\u001b[39m\u001b[38;5;124m'\u001b[39m, board, speed, \u001b[38;5;28mself\u001b[39m\u001b[38;5;241m.\u001b[39mgo_until_mode[action], \u001b[38;5;28mself\u001b[39m\u001b[38;5;241m.\u001b[39mdirection[direction])\n\u001b[1;32m    264\u001b[0m \u001b[38;5;28;01mwhile\u001b[39;00m \u001b[38;5;129;01mnot\u001b[39;00m \u001b[38;5;28mself\u001b[39m\u001b[38;5;241m.\u001b[39mis_switch_pressed(board):\n\u001b[0;32m--> 265\u001b[0m     \u001b[43mtime\u001b[49m\u001b[38;5;241;43m.\u001b[39;49m\u001b[43msleep\u001b[49m\u001b[43m(\u001b[49m\u001b[38;5;241;43m0.1\u001b[39;49m\u001b[43m)\u001b[49m\n",
      "\u001b[0;31mKeyboardInterrupt\u001b[0m: "
     ]
    }
   ],
   "source": [
    "motor.reset(\n",
    "    direction=Direction.BWD,\n",
    "    go_until=True,\n",
    "    speed=500\n",
    ")\n",
    "print(motor.m_total_steps)"
   ]
  },
  {
   "cell_type": "code",
   "execution_count": 32,
   "metadata": {},
   "outputs": [
    {
     "ename": "Exception",
     "evalue": "Arduino answered with wrong order. Expected 71. Received 102",
     "output_type": "error",
     "traceback": [
      "\u001b[0;31m---------------------------------------------------------------------------\u001b[0m",
      "\u001b[0;31mException\u001b[0m                                 Traceback (most recent call last)",
      "Cell \u001b[0;32mIn[32], line 3\u001b[0m\n\u001b[1;32m      1\u001b[0m TOTAL_STEPS \u001b[38;5;241m=\u001b[39m \u001b[38;5;241m8000\u001b[39m\n\u001b[1;32m      2\u001b[0m CHUNKS \u001b[38;5;241m=\u001b[39m \u001b[38;5;241m4\u001b[39m\n\u001b[0;32m----> 3\u001b[0m \u001b[43mmotor\u001b[49m\u001b[38;5;241;43m.\u001b[39;49m\u001b[43mreset\u001b[49m\u001b[43m(\u001b[49m\n\u001b[1;32m      4\u001b[0m \u001b[43m    \u001b[49m\u001b[43mdirection\u001b[49m\u001b[38;5;241;43m=\u001b[39;49m\u001b[43mDirection\u001b[49m\u001b[38;5;241;43m.\u001b[39;49m\u001b[43mBWD\u001b[49m\u001b[43m,\u001b[49m\n\u001b[1;32m      5\u001b[0m \u001b[43m    \u001b[49m\u001b[43mgo_until\u001b[49m\u001b[38;5;241;43m=\u001b[39;49m\u001b[38;5;28;43;01mTrue\u001b[39;49;00m\u001b[43m,\u001b[49m\n\u001b[1;32m      6\u001b[0m \u001b[43m    \u001b[49m\u001b[43mspeed\u001b[49m\u001b[38;5;241;43m=\u001b[39;49m\u001b[38;5;241;43m500\u001b[39;49m\n\u001b[1;32m      7\u001b[0m \u001b[43m)\u001b[49m\n\u001b[1;32m      8\u001b[0m \u001b[38;5;28mprint\u001b[39m(motor\u001b[38;5;241m.\u001b[39mm_total_steps)\n\u001b[1;32m      9\u001b[0m \u001b[38;5;28;01mfor\u001b[39;00m i \u001b[38;5;129;01min\u001b[39;00m \u001b[38;5;28mrange\u001b[39m(\u001b[38;5;241m200\u001b[39m):\n",
      "File \u001b[0;32m~/src/wifisidechannels/hardware/motor/motor.py:149\u001b[0m, in \u001b[0;36mMotor.reset\u001b[0;34m(self, direction, speed, steps, delta, motor_id, fs_only, go_until)\u001b[0m\n\u001b[1;32m    140\u001b[0m     \u001b[38;5;28;01mreturn\u001b[39;00m \u001b[38;5;28mself\u001b[39m\u001b[38;5;241m.\u001b[39mdrive(\n\u001b[1;32m    141\u001b[0m         direction\u001b[38;5;241m=\u001b[39mdirection,\n\u001b[1;32m    142\u001b[0m         speed\u001b[38;5;241m=\u001b[39mspeed,\n\u001b[0;32m   (...)\u001b[0m\n\u001b[1;32m    146\u001b[0m         fs_only\u001b[38;5;241m=\u001b[39mfs_only\n\u001b[1;32m    147\u001b[0m     )\n\u001b[1;32m    148\u001b[0m \u001b[38;5;28;01melse\u001b[39;00m:\n\u001b[0;32m--> 149\u001b[0m     \u001b[38;5;28;43mself\u001b[39;49m\u001b[38;5;241;43m.\u001b[39;49m\u001b[43mm_driver\u001b[49m\u001b[38;5;241;43m.\u001b[39;49m\u001b[43mgo_until\u001b[49m\u001b[43m(\u001b[49m\n\u001b[1;32m    150\u001b[0m \u001b[43m        \u001b[49m\u001b[43mboard\u001b[49m\u001b[38;5;241;43m=\u001b[39;49m\u001b[43mmotor_id\u001b[49m\u001b[43m \u001b[49m\u001b[38;5;28;43;01mif\u001b[39;49;00m\u001b[43m \u001b[49m\u001b[43mmotor_id\u001b[49m\u001b[43m \u001b[49m\u001b[38;5;129;43;01mis\u001b[39;49;00m\u001b[43m \u001b[49m\u001b[38;5;129;43;01mnot\u001b[39;49;00m\u001b[43m \u001b[49m\u001b[38;5;28;43;01mNone\u001b[39;49;00m\u001b[43m \u001b[49m\u001b[38;5;28;43;01melse\u001b[39;49;00m\u001b[43m \u001b[49m\u001b[38;5;241;43m0\u001b[39;49m\u001b[43m,\u001b[49m\n\u001b[1;32m    151\u001b[0m \u001b[43m        \u001b[49m\u001b[43mspeed\u001b[49m\u001b[38;5;241;43m=\u001b[39;49m\u001b[43mspeed\u001b[49m\u001b[43m,\u001b[49m\n\u001b[1;32m    152\u001b[0m \u001b[43m        \u001b[49m\u001b[43maction\u001b[49m\u001b[38;5;241;43m=\u001b[39;49m\u001b[38;5;124;43m\"\u001b[39;49m\u001b[38;5;124;43mreset_abspos\u001b[39;49m\u001b[38;5;124;43m\"\u001b[39;49m\u001b[43m,\u001b[49m\n\u001b[1;32m    153\u001b[0m \u001b[43m        \u001b[49m\u001b[43mdirection\u001b[49m\u001b[38;5;241;43m=\u001b[39;49m\u001b[43mdirection\u001b[49m\u001b[38;5;241;43m.\u001b[39;49m\u001b[43mvalue\u001b[49m\n\u001b[1;32m    154\u001b[0m \u001b[43m    \u001b[49m\u001b[43m)\u001b[49m\n\u001b[1;32m    155\u001b[0m     \u001b[38;5;28mself\u001b[39m\u001b[38;5;241m.\u001b[39mm_total_steps \u001b[38;5;241m=\u001b[39m \u001b[38;5;241m0\u001b[39m\n\u001b[1;32m    156\u001b[0m     \u001b[38;5;28;01mreturn\u001b[39;00m \u001b[38;5;28;01mTrue\u001b[39;00m\n",
      "File \u001b[0;32m~/src/wifisidechannels/hardware/motor/fastdriver.py:263\u001b[0m, in \u001b[0;36mFastdriverController.go_until\u001b[0;34m(self, board, speed, action, direction)\u001b[0m\n\u001b[1;32m    262\u001b[0m \u001b[38;5;28;01mdef\u001b[39;00m \u001b[38;5;21mgo_until\u001b[39m(\u001b[38;5;28mself\u001b[39m, board, speed, action, direction):\n\u001b[0;32m--> 263\u001b[0m     \u001b[38;5;28;43mself\u001b[39;49m\u001b[38;5;241;43m.\u001b[39;49m\u001b[43msend_command\u001b[49m\u001b[43m(\u001b[49m\u001b[38;5;124;43m'\u001b[39;49m\u001b[38;5;124;43mGO_UNTIL\u001b[39;49m\u001b[38;5;124;43m'\u001b[39;49m\u001b[43m,\u001b[49m\u001b[43m \u001b[49m\u001b[43mboard\u001b[49m\u001b[43m,\u001b[49m\u001b[43m \u001b[49m\u001b[43mspeed\u001b[49m\u001b[43m,\u001b[49m\u001b[43m \u001b[49m\u001b[38;5;28;43mself\u001b[39;49m\u001b[38;5;241;43m.\u001b[39;49m\u001b[43mgo_until_mode\u001b[49m\u001b[43m[\u001b[49m\u001b[43maction\u001b[49m\u001b[43m]\u001b[49m\u001b[43m,\u001b[49m\u001b[43m \u001b[49m\u001b[38;5;28;43mself\u001b[39;49m\u001b[38;5;241;43m.\u001b[39;49m\u001b[43mdirection\u001b[49m\u001b[43m[\u001b[49m\u001b[43mdirection\u001b[49m\u001b[43m]\u001b[49m\u001b[43m)\u001b[49m\n\u001b[1;32m    264\u001b[0m     \u001b[38;5;28;01mwhile\u001b[39;00m \u001b[38;5;129;01mnot\u001b[39;00m \u001b[38;5;28mself\u001b[39m\u001b[38;5;241m.\u001b[39mis_switch_pressed(board):\n\u001b[1;32m    265\u001b[0m         time\u001b[38;5;241m.\u001b[39msleep(\u001b[38;5;241m0.1\u001b[39m)\n",
      "File \u001b[0;32m~/src/wifisidechannels/hardware/motor/fastdriver.py:140\u001b[0m, in \u001b[0;36mFastdriverController.send_command\u001b[0;34m(self, command, *payload)\u001b[0m\n\u001b[1;32m    137\u001b[0m         \u001b[38;5;28;01mraise\u001b[39;00m \u001b[38;5;167;01mValueError\u001b[39;00m()\n\u001b[1;32m    139\u001b[0m \u001b[38;5;28;01mtry\u001b[39;00m:\n\u001b[0;32m--> 140\u001b[0m     received_payload \u001b[38;5;241m=\u001b[39m \u001b[38;5;28;43mself\u001b[39;49m\u001b[38;5;241;43m.\u001b[39;49m\u001b[43msend_command_internal\u001b[49m\u001b[43m(\u001b[49m\u001b[43mcurrent_command\u001b[49m\u001b[38;5;241;43m.\u001b[39;49m\u001b[43morder\u001b[49m\u001b[43m,\u001b[49m\u001b[43m \u001b[49m\u001b[43mpayload_bytes\u001b[49m\u001b[43m)\u001b[49m\n\u001b[1;32m    141\u001b[0m \u001b[38;5;28;01mexcept\u001b[39;00m RcvTimeoutException:\n\u001b[1;32m    142\u001b[0m     logging\u001b[38;5;241m.\u001b[39merror(\u001b[38;5;124m'\u001b[39m\u001b[38;5;124mfastdriver send_command: rcv timeout\u001b[39m\u001b[38;5;124m'\u001b[39m)\n",
      "File \u001b[0;32m~/src/wifisidechannels/hardware/motor/fastdriver.py:199\u001b[0m, in \u001b[0;36mFastdriverController.send_command_internal\u001b[0;34m(self, order, payload)\u001b[0m\n\u001b[1;32m    197\u001b[0m mirrored_order \u001b[38;5;241m=\u001b[39m received_payload[\u001b[38;5;241m0\u001b[39m]\n\u001b[1;32m    198\u001b[0m \u001b[38;5;28;01mif\u001b[39;00m mirrored_order \u001b[38;5;241m!=\u001b[39m order:\n\u001b[0;32m--> 199\u001b[0m     \u001b[38;5;28;01mraise\u001b[39;00m \u001b[38;5;167;01mException\u001b[39;00m(\u001b[38;5;124mf\u001b[39m\u001b[38;5;124m'\u001b[39m\u001b[38;5;124mArduino answered with wrong order. Expected \u001b[39m\u001b[38;5;132;01m{\u001b[39;00morder\u001b[38;5;132;01m}\u001b[39;00m\u001b[38;5;124m. Received \u001b[39m\u001b[38;5;132;01m{\u001b[39;00mmirrored_order\u001b[38;5;132;01m}\u001b[39;00m\u001b[38;5;124m'\u001b[39m)\n\u001b[1;32m    201\u001b[0m received_payload \u001b[38;5;241m=\u001b[39m received_payload[\u001b[38;5;241m1\u001b[39m:]\n\u001b[1;32m    203\u001b[0m \u001b[38;5;28;01mreturn\u001b[39;00m received_payload\n",
      "\u001b[0;31mException\u001b[0m: Arduino answered with wrong order. Expected 71. Received 102"
     ]
    }
   ],
   "source": [
    "TOTAL_STEPS = 8000\n",
    "CHUNKS = 4\n",
    "motor.reset(\n",
    "    direction=Direction.BWD,\n",
    "    go_until=True,\n",
    "    speed=500\n",
    ")\n",
    "print(motor.m_total_steps)\n",
    "for i in range(200):\n",
    "    print(f\"* ROUND {i}\")\n",
    "    motor.drive(direction=Direction.FWD, steps=TOTAL_STEPS)\n",
    "    #time.sleep((TOTAL_STEPS//SPEED) + 1)\n",
    "    for j in range(1, CHUNKS+1):\n",
    "        motor.drive(direction=Direction.BWD, steps=(TOTAL_STEPS//CHUNKS) + ((TOTAL_STEPS % CHUNKS) if j == CHUNKS else 0))\n",
    "        #print(\"SLEEPING: \", (((TOTAL_STEPS/CHUNKS))/SPEED) + 1.5)\n",
    "        #time.sleep((((TOTAL_STEPS/CHUNKS))/SPEED) + 1.5)"
   ]
  },
  {
   "cell_type": "code",
   "execution_count": 21,
   "metadata": {},
   "outputs": [
    {
     "name": "stdout",
     "output_type": "stream",
     "text": [
      "[32278]\n"
     ]
    }
   ],
   "source": [
    "print(motor.m_driver.get_status(0))"
   ]
  },
  {
   "cell_type": "code",
   "execution_count": 7,
   "metadata": {},
   "outputs": [
    {
     "data": {
      "text/plain": [
       "True"
      ]
     },
     "execution_count": 7,
     "metadata": {},
     "output_type": "execute_result"
    }
   ],
   "source": [
    "motor.reset(\n",
    "    go_until=True,\n",
    "    speed = 500,\n",
    "    direction=Direction.BWD)"
   ]
  },
  {
   "cell_type": "code",
   "execution_count": 6,
   "metadata": {},
   "outputs": [
    {
     "data": {
      "text/plain": [
       "True"
      ]
     },
     "execution_count": 6,
     "metadata": {},
     "output_type": "execute_result"
    }
   ],
   "source": [
    "motor.stop()"
   ]
  },
  {
   "cell_type": "code",
   "execution_count": 9,
   "metadata": {},
   "outputs": [
    {
     "name": "stdout",
     "output_type": "stream",
     "text": [
      "[ ACTION: MOTOR_RESET_GO_UNTIL ]\n",
      "\tOBJ: <bound method Motor.reset of <hardware.motor.motor.Motor object at 0x75b4242f8d00>>\n",
      "\tDELTA: 0.0\n",
      "\tKWARGS: {'direction': <Direction.BWD: 'bwd'>, 'speed': 500, 'go_until': True}\n",
      "[ ACTION: MOTOR_STEP_FROM_0_TO_0 ]\n",
      "\tOBJ: <bound method Motor.drive of <hardware.motor.motor.Motor object at 0x75b4242f8d00>>\n",
      "\tDELTA: 0.0\n",
      "\tKWARGS: {'direction': <Direction.BWD: 'bwd'>, 'steps': 0, 'fs_only': False}\n",
      "[ ACTION: MEASSURE ]\n",
      "\tOBJ: <bound method Meassure.do of <meassure.meassure.Meassure object at 0x75b4243cbaf0>>\n",
      "\tDELTA: 0.0\n",
      "[ ACTION: MOTOR_STEP_FROM_0_TO_1 ]\n",
      "\tOBJ: <bound method Motor.drive of <hardware.motor.motor.Motor object at 0x75b4242f8d00>>\n",
      "\tDELTA: 1.8\n",
      "\tKWARGS: {'direction': <Direction.FWD: 'fwd'>, 'steps': 800, 'fs_only': False}\n",
      "[ ACTION: MEASSURE ]\n",
      "\tOBJ: <bound method Meassure.do of <meassure.meassure.Meassure object at 0x75b4243cbaf0>>\n",
      "\tDELTA: 0.0\n",
      "[ ACTION: MOTOR_STEP_FROM_1_TO_2 ]\n",
      "\tOBJ: <bound method Motor.drive of <hardware.motor.motor.Motor object at 0x75b4242f8d00>>\n",
      "\tDELTA: 1.8\n",
      "\tKWARGS: {'direction': <Direction.FWD: 'fwd'>, 'steps': 800, 'fs_only': False}\n",
      "[ ACTION: MEASSURE ]\n",
      "\tOBJ: <bound method Meassure.do of <meassure.meassure.Meassure object at 0x75b4243cbaf0>>\n",
      "\tDELTA: 0.0\n",
      "[ ACTION: MOTOR_STEP_FROM_2_TO_3 ]\n",
      "\tOBJ: <bound method Motor.drive of <hardware.motor.motor.Motor object at 0x75b4242f8d00>>\n",
      "\tDELTA: 1.8\n",
      "\tKWARGS: {'direction': <Direction.FWD: 'fwd'>, 'steps': 800, 'fs_only': False}\n",
      "[ ACTION: MEASSURE ]\n",
      "\tOBJ: <bound method Meassure.do of <meassure.meassure.Meassure object at 0x75b4243cbaf0>>\n",
      "\tDELTA: 0.0\n",
      "[ ACTION: MOTOR_STEP_FROM_3_TO_4 ]\n",
      "\tOBJ: <bound method Motor.drive of <hardware.motor.motor.Motor object at 0x75b4242f8d00>>\n",
      "\tDELTA: 1.8\n",
      "\tKWARGS: {'direction': <Direction.FWD: 'fwd'>, 'steps': 800, 'fs_only': False}\n",
      "[ ACTION: MEASSURE ]\n",
      "\tOBJ: <bound method Meassure.do of <meassure.meassure.Meassure object at 0x75b4243cbaf0>>\n",
      "\tDELTA: 0.0\n",
      "[ ACTION: MOTOR_STEP_FROM_4_TO_5 ]\n",
      "\tOBJ: <bound method Motor.drive of <hardware.motor.motor.Motor object at 0x75b4242f8d00>>\n",
      "\tDELTA: 1.8\n",
      "\tKWARGS: {'direction': <Direction.FWD: 'fwd'>, 'steps': 800, 'fs_only': False}\n",
      "[ ACTION: MEASSURE ]\n",
      "\tOBJ: <bound method Meassure.do of <meassure.meassure.Meassure object at 0x75b4243cbaf0>>\n",
      "\tDELTA: 0.0\n",
      "[ ACTION: MOTOR_STEP_FROM_5_TO_6 ]\n",
      "\tOBJ: <bound method Motor.drive of <hardware.motor.motor.Motor object at 0x75b4242f8d00>>\n",
      "\tDELTA: 1.8\n",
      "\tKWARGS: {'direction': <Direction.FWD: 'fwd'>, 'steps': 800, 'fs_only': False}\n",
      "[ ACTION: MEASSURE ]\n",
      "\tOBJ: <bound method Meassure.do of <meassure.meassure.Meassure object at 0x75b4243cbaf0>>\n",
      "\tDELTA: 0.0\n",
      "[ ACTION: MOTOR_STEP_FROM_6_TO_7 ]\n",
      "\tOBJ: <bound method Motor.drive of <hardware.motor.motor.Motor object at 0x75b4242f8d00>>\n",
      "\tDELTA: 1.8\n",
      "\tKWARGS: {'direction': <Direction.FWD: 'fwd'>, 'steps': 800, 'fs_only': False}\n",
      "[ ACTION: MEASSURE ]\n",
      "\tOBJ: <bound method Meassure.do of <meassure.meassure.Meassure object at 0x75b4243cbaf0>>\n",
      "\tDELTA: 0.0\n",
      "[ ACTION: MOTOR_STEP_FROM_7_TO_8 ]\n",
      "\tOBJ: <bound method Motor.drive of <hardware.motor.motor.Motor object at 0x75b4242f8d00>>\n",
      "\tDELTA: 1.8\n",
      "\tKWARGS: {'direction': <Direction.FWD: 'fwd'>, 'steps': 800, 'fs_only': False}\n",
      "[ ACTION: MEASSURE ]\n",
      "\tOBJ: <bound method Meassure.do of <meassure.meassure.Meassure object at 0x75b4243cbaf0>>\n",
      "\tDELTA: 0.0\n",
      "[ ACTION: MOTOR_STEP_FROM_8_TO_9 ]\n",
      "\tOBJ: <bound method Motor.drive of <hardware.motor.motor.Motor object at 0x75b4242f8d00>>\n",
      "\tDELTA: 1.8\n",
      "\tKWARGS: {'direction': <Direction.FWD: 'fwd'>, 'steps': 800, 'fs_only': False}\n",
      "[ ACTION: MEASSURE ]\n",
      "\tOBJ: <bound method Meassure.do of <meassure.meassure.Meassure object at 0x75b4243cbaf0>>\n",
      "\tDELTA: 0.0\n",
      "[ ACTION: MOTOR_STEP_FROM_9_TO_8 ]\n",
      "\tOBJ: <bound method Motor.drive of <hardware.motor.motor.Motor object at 0x75b4242f8d00>>\n",
      "\tDELTA: 1.8\n",
      "\tKWARGS: {'direction': <Direction.BWD: 'bwd'>, 'steps': 800, 'fs_only': False}\n",
      "[ ACTION: MEASSURE ]\n",
      "\tOBJ: <bound method Meassure.do of <meassure.meassure.Meassure object at 0x75b4243cbaf0>>\n",
      "\tDELTA: 0.0\n",
      "[ ACTION: MOTOR_STEP_FROM_8_TO_7 ]\n",
      "\tOBJ: <bound method Motor.drive of <hardware.motor.motor.Motor object at 0x75b4242f8d00>>\n",
      "\tDELTA: 1.8\n",
      "\tKWARGS: {'direction': <Direction.BWD: 'bwd'>, 'steps': 800, 'fs_only': False}\n",
      "[ ACTION: MEASSURE ]\n",
      "\tOBJ: <bound method Meassure.do of <meassure.meassure.Meassure object at 0x75b4243cbaf0>>\n",
      "\tDELTA: 0.0\n",
      "[ ACTION: MOTOR_STEP_FROM_7_TO_6 ]\n",
      "\tOBJ: <bound method Motor.drive of <hardware.motor.motor.Motor object at 0x75b4242f8d00>>\n",
      "\tDELTA: 1.8\n",
      "\tKWARGS: {'direction': <Direction.BWD: 'bwd'>, 'steps': 800, 'fs_only': False}\n",
      "[ ACTION: MEASSURE ]\n",
      "\tOBJ: <bound method Meassure.do of <meassure.meassure.Meassure object at 0x75b4243cbaf0>>\n",
      "\tDELTA: 0.0\n",
      "[ ACTION: MOTOR_STEP_FROM_6_TO_5 ]\n",
      "\tOBJ: <bound method Motor.drive of <hardware.motor.motor.Motor object at 0x75b4242f8d00>>\n",
      "\tDELTA: 1.8\n",
      "\tKWARGS: {'direction': <Direction.BWD: 'bwd'>, 'steps': 800, 'fs_only': False}\n",
      "[ ACTION: MEASSURE ]\n",
      "\tOBJ: <bound method Meassure.do of <meassure.meassure.Meassure object at 0x75b4243cbaf0>>\n",
      "\tDELTA: 0.0\n",
      "[ ACTION: MOTOR_STEP_FROM_5_TO_4 ]\n",
      "\tOBJ: <bound method Motor.drive of <hardware.motor.motor.Motor object at 0x75b4242f8d00>>\n",
      "\tDELTA: 1.8\n",
      "\tKWARGS: {'direction': <Direction.BWD: 'bwd'>, 'steps': 800, 'fs_only': False}\n",
      "[ ACTION: MEASSURE ]\n",
      "\tOBJ: <bound method Meassure.do of <meassure.meassure.Meassure object at 0x75b4243cbaf0>>\n",
      "\tDELTA: 0.0\n",
      "[ ACTION: MOTOR_STEP_FROM_4_TO_3 ]\n",
      "\tOBJ: <bound method Motor.drive of <hardware.motor.motor.Motor object at 0x75b4242f8d00>>\n",
      "\tDELTA: 1.8\n",
      "\tKWARGS: {'direction': <Direction.BWD: 'bwd'>, 'steps': 800, 'fs_only': False}\n",
      "[ ACTION: MEASSURE ]\n",
      "\tOBJ: <bound method Meassure.do of <meassure.meassure.Meassure object at 0x75b4243cbaf0>>\n",
      "\tDELTA: 0.0\n",
      "[ ACTION: MOTOR_STEP_FROM_3_TO_2 ]\n",
      "\tOBJ: <bound method Motor.drive of <hardware.motor.motor.Motor object at 0x75b4242f8d00>>\n",
      "\tDELTA: 1.8\n",
      "\tKWARGS: {'direction': <Direction.BWD: 'bwd'>, 'steps': 800, 'fs_only': False}\n",
      "[ ACTION: MEASSURE ]\n",
      "\tOBJ: <bound method Meassure.do of <meassure.meassure.Meassure object at 0x75b4243cbaf0>>\n",
      "\tDELTA: 0.0\n",
      "[ ACTION: MOTOR_STEP_FROM_2_TO_1 ]\n",
      "\tOBJ: <bound method Motor.drive of <hardware.motor.motor.Motor object at 0x75b4242f8d00>>\n",
      "\tDELTA: 1.8\n",
      "\tKWARGS: {'direction': <Direction.BWD: 'bwd'>, 'steps': 800, 'fs_only': False}\n",
      "[ ACTION: MEASSURE ]\n",
      "\tOBJ: <bound method Meassure.do of <meassure.meassure.Meassure object at 0x75b4243cbaf0>>\n",
      "\tDELTA: 0.0\n",
      "[ ACTION: MOTOR_STEP_FROM_1_TO_0 ]\n",
      "\tOBJ: <bound method Motor.drive of <hardware.motor.motor.Motor object at 0x75b4242f8d00>>\n",
      "\tDELTA: 1.8\n",
      "\tKWARGS: {'direction': <Direction.BWD: 'bwd'>, 'steps': 800, 'fs_only': False}\n",
      "[ ACTION: MEASSURE ]\n",
      "\tOBJ: <bound method Meassure.do of <meassure.meassure.Meassure object at 0x75b4243cbaf0>>\n",
      "\tDELTA: 0.0\n",
      "[ ACTION: MOTOR_RESET_GO_UNTIL ]\n",
      "\tOBJ: <bound method Motor.reset of <hardware.motor.motor.Motor object at 0x75b4242f8d00>>\n",
      "\tDELTA: 0.0\n",
      "\tKWARGS: {'direction': <Direction.BWD: 'bwd'>, 'speed': 500, 'go_until': True}\n"
     ]
    }
   ],
   "source": [
    "some = exp.create_actions_from_password(\n",
    "    motor=motor,\n",
    "    meassure=meassure\n",
    ")"
   ]
  }
 ],
 "metadata": {
  "kernelspec": {
   "display_name": "wifisidechannels-sEVZrtBk-py3.10",
   "language": "python",
   "name": "python3"
  },
  "language_info": {
   "codemirror_mode": {
    "name": "ipython",
    "version": 3
   },
   "file_extension": ".py",
   "mimetype": "text/x-python",
   "name": "python",
   "nbconvert_exporter": "python",
   "pygments_lexer": "ipython3",
   "version": "3.10.12"
  }
 },
 "nbformat": 4,
 "nbformat_minor": 2
}
