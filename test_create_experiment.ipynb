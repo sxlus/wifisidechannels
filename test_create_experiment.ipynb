{
 "cells": [
  {
   "cell_type": "code",
   "execution_count": 1,
   "metadata": {},
   "outputs": [],
   "source": [
    "from experiment.experiment import NumericalPasswordSCExperiment\n",
    "from meassure.meassure import Meassure\n",
    "from hardware.motor.motor import Motor\n",
    "from hardware.motor.motor import Direction"
   ]
  },
  {
   "cell_type": "code",
   "execution_count": 2,
   "metadata": {},
   "outputs": [],
   "source": [
    "exp = NumericalPasswordSCExperiment()\n",
    "meassure = Meassure(\n",
    "    kwargs = {\n",
    "        \"interface\": \"wlp0s20f3\",\n",
    "        \"channel\": 44,\n",
    "        \"num\": 1,\n",
    "        \"mac_sa\": \"d83add30620c\"\n",
    "    })\n",
    "motor = Motor(\n",
    "    sensors=None,\n",
    "    motor_params={\n",
    "        'com_port': '/dev/ttyACM0',\n",
    "    },\n",
    "    motor_settings={\n",
    "        'ACC_KVAL' : 2,\n",
    "        'DEC_KVAL' : 0,\n",
    "        'RUN_KVAL' : 4,\n",
    "        'HOLD_KVAL': 0,\n",
    "        'MAX_SPEED': 1000,\n",
    "        'FULL_SPEED': 1000,\n",
    "        'ACC': 1000,\n",
    "        'DEC': 500,\n",
    "        'step_mode': 'FS'\n",
    "    }\n",
    ")"
   ]
  },
  {
   "cell_type": "markdown",
   "metadata": {},
   "source": [
    "## TIME <=> STEPS\n",
    "\n",
    "speed = 1000 & steps = 8000 -->"
   ]
  },
  {
   "cell_type": "code",
   "execution_count": 8,
   "metadata": {},
   "outputs": [
    {
     "name": "stdout",
     "output_type": "stream",
     "text": [
      "* Driving steps: 2000\n",
      "---  10400\n"
     ]
    },
    {
     "data": {
      "text/plain": [
       "True"
      ]
     },
     "execution_count": 8,
     "metadata": {},
     "output_type": "execute_result"
    }
   ],
   "source": [
    "motor.drive(\n",
    "    steps = 2000\n",
    ")"
   ]
  },
  {
   "cell_type": "code",
   "execution_count": 21,
   "metadata": {},
   "outputs": [
    {
     "name": "stdout",
     "output_type": "stream",
     "text": [
      "[32278]\n"
     ]
    }
   ],
   "source": [
    "print(motor.m_driver.get_status(0))"
   ]
  },
  {
   "cell_type": "code",
   "execution_count": 7,
   "metadata": {},
   "outputs": [
    {
     "data": {
      "text/plain": [
       "True"
      ]
     },
     "execution_count": 7,
     "metadata": {},
     "output_type": "execute_result"
    }
   ],
   "source": [
    "motor.reset(\n",
    "    go_until=True,\n",
    "    speed = 500,\n",
    "    direction=Direction.BWD)"
   ]
  },
  {
   "cell_type": "code",
   "execution_count": 6,
   "metadata": {},
   "outputs": [
    {
     "data": {
      "text/plain": [
       "True"
      ]
     },
     "execution_count": 6,
     "metadata": {},
     "output_type": "execute_result"
    }
   ],
   "source": [
    "motor.stop()"
   ]
  },
  {
   "cell_type": "code",
   "execution_count": 9,
   "metadata": {},
   "outputs": [
    {
     "name": "stdout",
     "output_type": "stream",
     "text": [
      "[ ACTION: MOTOR_RESET_GO_UNTIL ]\n",
      "\tOBJ: <bound method Motor.reset of <hardware.motor.motor.Motor object at 0x75b4242f8d00>>\n",
      "\tDELTA: 0.0\n",
      "\tKWARGS: {'direction': <Direction.BWD: 'bwd'>, 'speed': 500, 'go_until': True}\n",
      "[ ACTION: MOTOR_STEP_FROM_0_TO_0 ]\n",
      "\tOBJ: <bound method Motor.drive of <hardware.motor.motor.Motor object at 0x75b4242f8d00>>\n",
      "\tDELTA: 0.0\n",
      "\tKWARGS: {'direction': <Direction.BWD: 'bwd'>, 'steps': 0, 'fs_only': False}\n",
      "[ ACTION: MEASSURE ]\n",
      "\tOBJ: <bound method Meassure.do of <meassure.meassure.Meassure object at 0x75b4243cbaf0>>\n",
      "\tDELTA: 0.0\n",
      "[ ACTION: MOTOR_STEP_FROM_0_TO_1 ]\n",
      "\tOBJ: <bound method Motor.drive of <hardware.motor.motor.Motor object at 0x75b4242f8d00>>\n",
      "\tDELTA: 1.8\n",
      "\tKWARGS: {'direction': <Direction.FWD: 'fwd'>, 'steps': 800, 'fs_only': False}\n",
      "[ ACTION: MEASSURE ]\n",
      "\tOBJ: <bound method Meassure.do of <meassure.meassure.Meassure object at 0x75b4243cbaf0>>\n",
      "\tDELTA: 0.0\n",
      "[ ACTION: MOTOR_STEP_FROM_1_TO_2 ]\n",
      "\tOBJ: <bound method Motor.drive of <hardware.motor.motor.Motor object at 0x75b4242f8d00>>\n",
      "\tDELTA: 1.8\n",
      "\tKWARGS: {'direction': <Direction.FWD: 'fwd'>, 'steps': 800, 'fs_only': False}\n",
      "[ ACTION: MEASSURE ]\n",
      "\tOBJ: <bound method Meassure.do of <meassure.meassure.Meassure object at 0x75b4243cbaf0>>\n",
      "\tDELTA: 0.0\n",
      "[ ACTION: MOTOR_STEP_FROM_2_TO_3 ]\n",
      "\tOBJ: <bound method Motor.drive of <hardware.motor.motor.Motor object at 0x75b4242f8d00>>\n",
      "\tDELTA: 1.8\n",
      "\tKWARGS: {'direction': <Direction.FWD: 'fwd'>, 'steps': 800, 'fs_only': False}\n",
      "[ ACTION: MEASSURE ]\n",
      "\tOBJ: <bound method Meassure.do of <meassure.meassure.Meassure object at 0x75b4243cbaf0>>\n",
      "\tDELTA: 0.0\n",
      "[ ACTION: MOTOR_STEP_FROM_3_TO_4 ]\n",
      "\tOBJ: <bound method Motor.drive of <hardware.motor.motor.Motor object at 0x75b4242f8d00>>\n",
      "\tDELTA: 1.8\n",
      "\tKWARGS: {'direction': <Direction.FWD: 'fwd'>, 'steps': 800, 'fs_only': False}\n",
      "[ ACTION: MEASSURE ]\n",
      "\tOBJ: <bound method Meassure.do of <meassure.meassure.Meassure object at 0x75b4243cbaf0>>\n",
      "\tDELTA: 0.0\n",
      "[ ACTION: MOTOR_STEP_FROM_4_TO_5 ]\n",
      "\tOBJ: <bound method Motor.drive of <hardware.motor.motor.Motor object at 0x75b4242f8d00>>\n",
      "\tDELTA: 1.8\n",
      "\tKWARGS: {'direction': <Direction.FWD: 'fwd'>, 'steps': 800, 'fs_only': False}\n",
      "[ ACTION: MEASSURE ]\n",
      "\tOBJ: <bound method Meassure.do of <meassure.meassure.Meassure object at 0x75b4243cbaf0>>\n",
      "\tDELTA: 0.0\n",
      "[ ACTION: MOTOR_STEP_FROM_5_TO_6 ]\n",
      "\tOBJ: <bound method Motor.drive of <hardware.motor.motor.Motor object at 0x75b4242f8d00>>\n",
      "\tDELTA: 1.8\n",
      "\tKWARGS: {'direction': <Direction.FWD: 'fwd'>, 'steps': 800, 'fs_only': False}\n",
      "[ ACTION: MEASSURE ]\n",
      "\tOBJ: <bound method Meassure.do of <meassure.meassure.Meassure object at 0x75b4243cbaf0>>\n",
      "\tDELTA: 0.0\n",
      "[ ACTION: MOTOR_STEP_FROM_6_TO_7 ]\n",
      "\tOBJ: <bound method Motor.drive of <hardware.motor.motor.Motor object at 0x75b4242f8d00>>\n",
      "\tDELTA: 1.8\n",
      "\tKWARGS: {'direction': <Direction.FWD: 'fwd'>, 'steps': 800, 'fs_only': False}\n",
      "[ ACTION: MEASSURE ]\n",
      "\tOBJ: <bound method Meassure.do of <meassure.meassure.Meassure object at 0x75b4243cbaf0>>\n",
      "\tDELTA: 0.0\n",
      "[ ACTION: MOTOR_STEP_FROM_7_TO_8 ]\n",
      "\tOBJ: <bound method Motor.drive of <hardware.motor.motor.Motor object at 0x75b4242f8d00>>\n",
      "\tDELTA: 1.8\n",
      "\tKWARGS: {'direction': <Direction.FWD: 'fwd'>, 'steps': 800, 'fs_only': False}\n",
      "[ ACTION: MEASSURE ]\n",
      "\tOBJ: <bound method Meassure.do of <meassure.meassure.Meassure object at 0x75b4243cbaf0>>\n",
      "\tDELTA: 0.0\n",
      "[ ACTION: MOTOR_STEP_FROM_8_TO_9 ]\n",
      "\tOBJ: <bound method Motor.drive of <hardware.motor.motor.Motor object at 0x75b4242f8d00>>\n",
      "\tDELTA: 1.8\n",
      "\tKWARGS: {'direction': <Direction.FWD: 'fwd'>, 'steps': 800, 'fs_only': False}\n",
      "[ ACTION: MEASSURE ]\n",
      "\tOBJ: <bound method Meassure.do of <meassure.meassure.Meassure object at 0x75b4243cbaf0>>\n",
      "\tDELTA: 0.0\n",
      "[ ACTION: MOTOR_STEP_FROM_9_TO_8 ]\n",
      "\tOBJ: <bound method Motor.drive of <hardware.motor.motor.Motor object at 0x75b4242f8d00>>\n",
      "\tDELTA: 1.8\n",
      "\tKWARGS: {'direction': <Direction.BWD: 'bwd'>, 'steps': 800, 'fs_only': False}\n",
      "[ ACTION: MEASSURE ]\n",
      "\tOBJ: <bound method Meassure.do of <meassure.meassure.Meassure object at 0x75b4243cbaf0>>\n",
      "\tDELTA: 0.0\n",
      "[ ACTION: MOTOR_STEP_FROM_8_TO_7 ]\n",
      "\tOBJ: <bound method Motor.drive of <hardware.motor.motor.Motor object at 0x75b4242f8d00>>\n",
      "\tDELTA: 1.8\n",
      "\tKWARGS: {'direction': <Direction.BWD: 'bwd'>, 'steps': 800, 'fs_only': False}\n",
      "[ ACTION: MEASSURE ]\n",
      "\tOBJ: <bound method Meassure.do of <meassure.meassure.Meassure object at 0x75b4243cbaf0>>\n",
      "\tDELTA: 0.0\n",
      "[ ACTION: MOTOR_STEP_FROM_7_TO_6 ]\n",
      "\tOBJ: <bound method Motor.drive of <hardware.motor.motor.Motor object at 0x75b4242f8d00>>\n",
      "\tDELTA: 1.8\n",
      "\tKWARGS: {'direction': <Direction.BWD: 'bwd'>, 'steps': 800, 'fs_only': False}\n",
      "[ ACTION: MEASSURE ]\n",
      "\tOBJ: <bound method Meassure.do of <meassure.meassure.Meassure object at 0x75b4243cbaf0>>\n",
      "\tDELTA: 0.0\n",
      "[ ACTION: MOTOR_STEP_FROM_6_TO_5 ]\n",
      "\tOBJ: <bound method Motor.drive of <hardware.motor.motor.Motor object at 0x75b4242f8d00>>\n",
      "\tDELTA: 1.8\n",
      "\tKWARGS: {'direction': <Direction.BWD: 'bwd'>, 'steps': 800, 'fs_only': False}\n",
      "[ ACTION: MEASSURE ]\n",
      "\tOBJ: <bound method Meassure.do of <meassure.meassure.Meassure object at 0x75b4243cbaf0>>\n",
      "\tDELTA: 0.0\n",
      "[ ACTION: MOTOR_STEP_FROM_5_TO_4 ]\n",
      "\tOBJ: <bound method Motor.drive of <hardware.motor.motor.Motor object at 0x75b4242f8d00>>\n",
      "\tDELTA: 1.8\n",
      "\tKWARGS: {'direction': <Direction.BWD: 'bwd'>, 'steps': 800, 'fs_only': False}\n",
      "[ ACTION: MEASSURE ]\n",
      "\tOBJ: <bound method Meassure.do of <meassure.meassure.Meassure object at 0x75b4243cbaf0>>\n",
      "\tDELTA: 0.0\n",
      "[ ACTION: MOTOR_STEP_FROM_4_TO_3 ]\n",
      "\tOBJ: <bound method Motor.drive of <hardware.motor.motor.Motor object at 0x75b4242f8d00>>\n",
      "\tDELTA: 1.8\n",
      "\tKWARGS: {'direction': <Direction.BWD: 'bwd'>, 'steps': 800, 'fs_only': False}\n",
      "[ ACTION: MEASSURE ]\n",
      "\tOBJ: <bound method Meassure.do of <meassure.meassure.Meassure object at 0x75b4243cbaf0>>\n",
      "\tDELTA: 0.0\n",
      "[ ACTION: MOTOR_STEP_FROM_3_TO_2 ]\n",
      "\tOBJ: <bound method Motor.drive of <hardware.motor.motor.Motor object at 0x75b4242f8d00>>\n",
      "\tDELTA: 1.8\n",
      "\tKWARGS: {'direction': <Direction.BWD: 'bwd'>, 'steps': 800, 'fs_only': False}\n",
      "[ ACTION: MEASSURE ]\n",
      "\tOBJ: <bound method Meassure.do of <meassure.meassure.Meassure object at 0x75b4243cbaf0>>\n",
      "\tDELTA: 0.0\n",
      "[ ACTION: MOTOR_STEP_FROM_2_TO_1 ]\n",
      "\tOBJ: <bound method Motor.drive of <hardware.motor.motor.Motor object at 0x75b4242f8d00>>\n",
      "\tDELTA: 1.8\n",
      "\tKWARGS: {'direction': <Direction.BWD: 'bwd'>, 'steps': 800, 'fs_only': False}\n",
      "[ ACTION: MEASSURE ]\n",
      "\tOBJ: <bound method Meassure.do of <meassure.meassure.Meassure object at 0x75b4243cbaf0>>\n",
      "\tDELTA: 0.0\n",
      "[ ACTION: MOTOR_STEP_FROM_1_TO_0 ]\n",
      "\tOBJ: <bound method Motor.drive of <hardware.motor.motor.Motor object at 0x75b4242f8d00>>\n",
      "\tDELTA: 1.8\n",
      "\tKWARGS: {'direction': <Direction.BWD: 'bwd'>, 'steps': 800, 'fs_only': False}\n",
      "[ ACTION: MEASSURE ]\n",
      "\tOBJ: <bound method Meassure.do of <meassure.meassure.Meassure object at 0x75b4243cbaf0>>\n",
      "\tDELTA: 0.0\n",
      "[ ACTION: MOTOR_RESET_GO_UNTIL ]\n",
      "\tOBJ: <bound method Motor.reset of <hardware.motor.motor.Motor object at 0x75b4242f8d00>>\n",
      "\tDELTA: 0.0\n",
      "\tKWARGS: {'direction': <Direction.BWD: 'bwd'>, 'speed': 500, 'go_until': True}\n"
     ]
    }
   ],
   "source": [
    "some = exp.create_actions_from_password(\n",
    "    motor=motor,\n",
    "    meassure=meassure\n",
    ")"
   ]
  }
 ],
 "metadata": {
  "kernelspec": {
   "display_name": "wifisidechannels-sEVZrtBk-py3.10",
   "language": "python",
   "name": "python3"
  },
  "language_info": {
   "codemirror_mode": {
    "name": "ipython",
    "version": 3
   },
   "file_extension": ".py",
   "mimetype": "text/x-python",
   "name": "python",
   "nbconvert_exporter": "python",
   "pygments_lexer": "ipython3",
   "version": "3.10.12"
  }
 },
 "nbformat": 4,
 "nbformat_minor": 2
}
