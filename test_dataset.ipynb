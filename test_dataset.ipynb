{
 "cells": [
  {
   "cell_type": "code",
   "execution_count": 1,
   "metadata": {},
   "outputs": [],
   "source": [
    "from wiki_eve_max.dataset import BFIKEYSTROKE\n",
    "import os\n",
    "\n",
    "CWD = os.getcwd()\n",
    "META_FILE = os.path.join(CWD, \"DATASETS_TEST/NP/even_spacing/mean/32\", \"meta.dump\")\n",
    "data_loader = BFIKEYSTROKE(\n",
    "    meta_file=META_FILE\n",
    ")"
   ]
  },
  {
   "cell_type": "code",
   "execution_count": 2,
   "metadata": {},
   "outputs": [
    {
     "name": "stdout",
     "output_type": "stream",
     "text": [
      "<class 'numpy.ndarray'> (134, 1872)\n"
     ]
    }
   ],
   "source": [
    "print(type(data_loader[11][\"data\"]), data_loader[11][\"data\"].shape)"
   ]
  }
 ],
 "metadata": {
  "kernelspec": {
   "display_name": "wifisidechannels-sEVZrtBk-py3.10",
   "language": "python",
   "name": "python3"
  },
  "language_info": {
   "codemirror_mode": {
    "name": "ipython",
    "version": 3
   },
   "file_extension": ".py",
   "mimetype": "text/x-python",
   "name": "python",
   "nbconvert_exporter": "python",
   "pygments_lexer": "ipython3",
   "version": "3.10.12"
  }
 },
 "nbformat": 4,
 "nbformat_minor": 2
}
