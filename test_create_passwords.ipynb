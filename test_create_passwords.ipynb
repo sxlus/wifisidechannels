{
 "cells": [
  {
   "cell_type": "code",
   "execution_count": 1,
   "metadata": {},
   "outputs": [],
   "source": [
    "import os\n",
    "import itertools"
   ]
  },
  {
   "cell_type": "code",
   "execution_count": 13,
   "metadata": {},
   "outputs": [],
   "source": [
    "repeat  = 2\n",
    "file    = f\"PASSWORDS/{repeat}_all_passwords.txt\"\n",
    "num     = range(10)\n",
    "\n",
    "with open(file, \"wt\") as f:\n",
    "    for pw in itertools.product(num, repeat=repeat):\n",
    "        f.write(\"\".join([ str(x) for x in pw ]) + \"\\n\")"
   ]
  }
 ],
 "metadata": {
  "kernelspec": {
   "display_name": ".venv",
   "language": "python",
   "name": "python3"
  },
  "language_info": {
   "codemirror_mode": {
    "name": "ipython",
    "version": 3
   },
   "file_extension": ".py",
   "mimetype": "text/x-python",
   "name": "python",
   "nbconvert_exporter": "python",
   "pygments_lexer": "ipython3",
   "version": "3.10.12"
  }
 },
 "nbformat": 4,
 "nbformat_minor": 2
}
