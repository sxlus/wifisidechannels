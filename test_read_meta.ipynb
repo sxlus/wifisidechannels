{
 "cells": [
  {
   "cell_type": "code",
   "execution_count": null,
   "metadata": {},
   "outputs": [],
   "source": [
    "import joblib\n",
    "import os\n",
    "import pathlib\n",
    "\n",
    "from wifisidechannels.units.txbf import TxBf\n",
    "from wifisidechannels.models import export_models\n",
    "\n",
    "CWD = os.getcwd()\n",
    "DSD = pathlib.Path(os.path.join(CWD, \"EXPERIMENT_EXPORT\"))\n",
    "UNIT = TxBf()\n",
    "\n",
    "for i, file in enumerate(sorted([ pathlib.Path(os.path.join(folder, x)) for folder,_,y in os.walk(DSD) for x in y if \".dump\" in x and \"data\" not in str(x).lower()])):\n",
    "    meta = joblib.load(file)\n",
    "    print(file)\n",
    "    print(meta)"
   ]
  },
  {
   "cell_type": "code",
   "execution_count": null,
   "metadata": {},
   "outputs": [],
   "source": []
  }
 ],
 "metadata": {
  "kernelspec": {
   "display_name": ".venv",
   "language": "python",
   "name": "python3"
  },
  "language_info": {
   "codemirror_mode": {
    "name": "ipython",
    "version": 3
   },
   "file_extension": ".py",
   "mimetype": "text/x-python",
   "name": "python",
   "nbconvert_exporter": "python",
   "pygments_lexer": "ipython3",
   "version": "3.10.12"
  }
 },
 "nbformat": 4,
 "nbformat_minor": 2
}
