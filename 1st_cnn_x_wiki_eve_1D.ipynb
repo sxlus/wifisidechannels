{
 "cells": [
  {
   "cell_type": "code",
   "execution_count": 1,
   "metadata": {},
   "outputs": [],
   "source": [
    "import torch\n",
    "import torchvision\n",
    "import numpy as np\n",
    "import gradient_reversal\n",
    "import joblib\n",
    "import os"
   ]
  },
  {
   "cell_type": "code",
   "execution_count": 2,
   "metadata": {},
   "outputs": [
    {
     "name": "stdout",
     "output_type": "stream",
     "text": [
      "Using cuda device\n"
     ]
    }
   ],
   "source": [
    "# Get cpu, gpu or mps device for training.\n",
    "device = (\n",
    "    \"cuda\"\n",
    "    if torch.cuda.is_available()\n",
    "    else \"mps\"\n",
    "    if torch.backends.mps.is_available()\n",
    "    else \"cpu\"\n",
    ")\n",
    "print(f\"Using {device} device\")"
   ]
  },
  {
   "cell_type": "markdown",
   "metadata": {},
   "source": [
    "# Import WIKI_EVE"
   ]
  },
  {
   "cell_type": "code",
   "execution_count": 3,
   "metadata": {},
   "outputs": [],
   "source": [
    "import wiki_eve_max.model as models\n",
    "import wiki_eve_max.loss as loss\n",
    "import wiki_eve_max.transform as transform\n",
    "import wiki_eve_max.dataset as dataset\n",
    "import wiki_eve_max.work as work"
   ]
  },
  {
   "cell_type": "markdown",
   "metadata": {},
   "source": []
  },
  {
   "cell_type": "code",
   "execution_count": 4,
   "metadata": {},
   "outputs": [],
   "source": [
    "CWD = os.getcwd()\n",
    "META_FILE = os.path.join(CWD, \"DATASETS_TEST/NP/even_spacing/mean/32\", \"meta.dump\")\n",
    "DATASET = dataset.BFIKEYSTROKE(\n",
    "    meta_file=META_FILE,\n",
    "    transform=torchvision.transforms.Compose([transform.Absolute()])\n",
    ")"
   ]
  },
  {
   "cell_type": "code",
   "execution_count": 5,
   "metadata": {},
   "outputs": [
    {
     "name": "stdout",
     "output_type": "stream",
     "text": [
      "140000 14000 14000 10\n"
     ]
    }
   ],
   "source": [
    "print(len(DATASET),len(DATASET.m_domains),DATASET.m_num_domain, DATASET.m_num_class)"
   ]
  },
  {
   "cell_type": "code",
   "execution_count": 6,
   "metadata": {},
   "outputs": [
    {
     "name": "stdout",
     "output_type": "stream",
     "text": [
      "{'data': tensor([[0.3494, 0.5480, 0.1212,  ..., 0.1644, 0.7405, 0.2720],\n",
      "        [0.3494, 0.5480, 0.1212,  ..., 0.1644, 0.7405, 0.2720],\n",
      "        [0.3493, 0.5505, 0.1245,  ..., 0.1303, 0.7565, 0.2237],\n",
      "        ...,\n",
      "        [0.2152, 0.5077, 0.6731,  ..., 0.6474, 0.5685, 0.3081],\n",
      "        [0.2603, 0.4807, 0.5138,  ..., 0.6273, 0.5158, 0.2983],\n",
      "        [0.2603, 0.4807, 0.5138,  ..., 0.6273, 0.5158, 0.2983]]), 'label': 0, 'domain': 11898, 'domain_0': 8219}\n",
      "{'data': tensor([[0.3369, 0.5474, 0.5558,  ..., 0.0569, 0.4816, 0.6091],\n",
      "        [0.3409, 0.5413, 0.5451,  ..., 0.0961, 0.4366, 0.6298],\n",
      "        [0.3377, 0.5487, 0.5507,  ..., 0.1102, 0.4276, 0.6136],\n",
      "        ...,\n",
      "        [0.6390, 0.5523, 0.4949,  ..., 0.4180, 0.5702, 0.7824],\n",
      "        [0.6351, 0.5524, 0.4969,  ..., 0.4117, 0.5804, 0.7832],\n",
      "        [0.6469, 0.5435, 0.4935,  ..., 0.4018, 0.5855, 0.7843]]), 'label': 7, 'domain': 921, 'domain_0': 12829}\n"
     ]
    }
   ],
   "source": [
    "train_data, test_data = DATASET.split(train_p=0.75)\n",
    "print(train_data[9])\n",
    "print(train_data[25])"
   ]
  },
  {
   "cell_type": "code",
   "execution_count": 8,
   "metadata": {},
   "outputs": [
    {
     "name": "stdout",
     "output_type": "stream",
     "text": [
      "WIKI_EVE_1D(\n",
      "  (GF): Sequential(\n",
      "    (0): Conv1d(134, 20, kernel_size=(12,), stride=(1,))\n",
      "    (1): ReLU()\n",
      "    (2): AdaptiveAvgPool1d(output_size=150)\n",
      "    (3): Conv1d(20, 40, kernel_size=(12,), stride=(1,))\n",
      "    (4): ReLU()\n",
      "    (5): AdaptiveAvgPool1d(output_size=50)\n",
      "  )\n",
      "  (GC): Sequential(\n",
      "    (0): Linear(in_features=2000, out_features=2000, bias=True)\n",
      "    (1): ReLU()\n",
      "    (2): Linear(in_features=2000, out_features=10, bias=True)\n",
      "  )\n",
      "  (GD): Sequential(\n",
      "    (0): GradientReversal()\n",
      "    (1): Linear(in_features=2000, out_features=2000, bias=True)\n",
      "    (2): ReLU()\n",
      "    (3): Linear(in_features=2000, out_features=14000, bias=True)\n",
      "  )\n",
      ")\n",
      "Epoch 1\n",
      "-------------------------------\n",
      "loss: 11.848948  [   32/105000]\n"
     ]
    }
   ],
   "source": [
    "learning_rate = 1e-3\n",
    "batch_size = 32\n",
    "epochs = 5\n",
    "\n",
    "train_dataloader = torch.utils.data.DataLoader(train_data, batch_size=batch_size)\n",
    "test_dataloader = torch.utils.data.DataLoader(test_data, batch_size=batch_size)\n",
    "\n",
    "model = models.WIKI_EVE_1D(\n",
    "    conv_in_channels = 134,\n",
    "    conv_out_channels = 75,\n",
    "    conv_kernel_size = 12,\n",
    "    conv_stride = 1,\n",
    "    GF_output_size = 100,\n",
    "    GC_labels = 10,\n",
    "    GD_labels = DATASET.m_num_domain,\n",
    "    lambda_domain = 0.01\n",
    ")\n",
    "print(model)\n",
    "model.to(torch.device(device=\"cpu\"))\n",
    "loss_fn = loss.AdvLernLoss()\n",
    "optimizer = torch.optim.Adam(model.parameters(), lr=learning_rate)\n",
    "\n",
    "for t in range(epochs):\n",
    "    print(f\"Epoch {t+1}\\n-------------------------------\")\n",
    "    work.train_loop(train_dataloader, model, loss_fn, optimizer, batch_size=batch_size)#, device=device)\n",
    "    work.test_loop(test_dataloader, model, loss_fn)#, device=device)\n",
    "print(\"Done!\")"
   ]
  },
  {
   "cell_type": "markdown",
   "metadata": {},
   "source": []
  }
 ],
 "metadata": {
  "kernelspec": {
   "display_name": ".venv",
   "language": "python",
   "name": "python3"
  },
  "language_info": {
   "codemirror_mode": {
    "name": "ipython",
    "version": 3
   },
   "file_extension": ".py",
   "mimetype": "text/x-python",
   "name": "python",
   "nbconvert_exporter": "python",
   "pygments_lexer": "ipython3",
   "version": "3.10.12"
  }
 },
 "nbformat": 4,
 "nbformat_minor": 2
}
