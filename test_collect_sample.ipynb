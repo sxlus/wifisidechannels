{
 "cells": [
  {
   "cell_type": "code",
   "execution_count": 1,
   "metadata": {},
   "outputs": [],
   "source": [
    "import wifisidechannels.units.txbf as txbf\n",
    "import os"
   ]
  },
  {
   "cell_type": "code",
   "execution_count": 2,
   "metadata": {},
   "outputs": [
    {
     "name": "stdout",
     "output_type": "stream",
     "text": [
      "/mnt/UbuntuDisk/RUB_ITS/RUB_SEMESTER_VI/Bachelor/EMSEC_Physical_Layer/wifisidechannels\n"
     ]
    }
   ],
   "source": [
    "print(os.getcwd())"
   ]
  },
  {
   "cell_type": "code",
   "execution_count": 3,
   "metadata": {},
   "outputs": [],
   "source": [
    "tx = txbf.TxBf(\n",
    "    kwargs={\n",
    "        \"interface\": \"\",\n",
    "        \"channel\": 64\n",
    "})"
   ]
  },
  {
   "cell_type": "code",
   "execution_count": 4,
   "metadata": {},
   "outputs": [
    {
     "name": "stdout",
     "output_type": "stream",
     "text": [
      "[*] [ txbf ][ txbf ] - Capturing on: \n",
      "\t[*] Using preset: -F '(wlan.fc.type_subtype == 0x0e) && (wlan.sa == 12:7c:61:36:fc:c2)' -E frame.time_epoch,wlan.sa,wlan.da,wlan.vht.mimo_control.control,wlan.vht.compressed_beamforming_report.\n",
      "Proc 79380 launching tasks: ['bash/setup_device.sh', '-n', '-e']\n"
     ]
    },
    {
     "name": "stderr",
     "output_type": "stream",
     "text": [
      "Process Process-2:\n",
      "Traceback (most recent call last):\n",
      "  File \"/usr/lib/python3.10/multiprocessing/process.py\", line 314, in _bootstrap\n",
      "    self.run()\n",
      "  File \"/usr/lib/python3.10/multiprocessing/process.py\", line 108, in run\n",
      "    self._target(*self._args, **self._kwargs)\n",
      "TypeError: WiFi._listen() got an unexpected keyword argument 'read_file'\n"
     ]
    },
    {
     "name": "stdout",
     "output_type": "stream",
     "text": [
      "\r"
     ]
    }
   ],
   "source": [
    "tx.collect_sample(\n",
    "    kwargs={\n",
    "        #\"read_file\": \"DUMP/AP_to_Phone_10_times_each_number_mac_sa_127c6136fcc2_capture.pcapng\",\n",
    "        \"num\": 10,\n",
    "        \"mac_sa\": \"127c6136fcc2\",\n",
    "        #\"mac_da\": \"\"\n",
    "})"
   ]
  },
  {
   "cell_type": "code",
   "execution_count": null,
   "metadata": {},
   "outputs": [
    {
     "name": "stdout",
     "output_type": "stream",
     "text": [
      "[ Packet ]: [ PackProc ][ [ VHT ] ] from 2024-08-24 08:27:53.225315 with content:\n",
      "b'\\n' @\n",
      "{'wlan.vht.compressed_beamforming_report': '', 'wlan.vht.mimo_control.control': '', 'wlan.da': '', 'wlan.sa': '', 'frame.time_epoch': ''}\n",
      "[ Packet ]: [ PackProc ][ [ VHT ] ] from 2024-08-24 08:27:53.225342 with content:\n",
      "b'1718394810.768037165\\t12:7c:61:36:fc:c2\\t60:3a:af:1b:08:93\\t0x9c8409\\t04fd2cb3ccaeca29ab9cb2ca29a39c32ca29abac6eca2bb3ccb6db71cfeeffffefd75cdf6ebe010618504105051850bff9e69b6fbdf5d5575f3ef5c5175fbcf1b5175f\\n' @\n",
      "{'wlan.vht.compressed_beamforming_report': '04fd2cb3ccaeca29ab9cb2ca29a39c32ca29abac6eca2bb3ccb6db71cfeeffffefd75cdf6ebe010618504105051850bff9e69b6fbdf5d5575f3ef5c5175fbcf1b5175f', 'wlan.vht.mimo_control.control': '0x9c8409', 'wlan.da': '60:3a:af:1b:08:93', 'wlan.sa': '12:7c:61:36:fc:c2', 'frame.time_epoch': '1718394810.768037165'}\n",
      "[ Packet ]: [ PackProc ][ [ VHT ] ] from 2024-08-24 08:27:53.225344 with content:\n",
      "b'1718394810.992748745\\t12:7c:61:36:fc:c2\\t60:3a:af:1b:08:93\\t0xa08489\\tf6d5d149286184d04107dd830f3ef8a0830e3ae8a0830d36d860830c32c8e0820a2aa9a0820a2a9960924822882482071e69e491461a69a49145125820914412492491420a29a490410619649040020924903ffee8a38f3df6d8638f3cf2c9e38e3bea98638e3ae698638e38e278e38d36da68a37d35d6471f8d33ce38e37cf4cd37e38c32ca18637cf0c107df7bf0bdf8a28b2eb6d75e7bedb1c8e27aeba9a79e8aeaa998628a29a688228a289e88de79e8a1771e8a28a288e289269e78e289279a5862892592482289648e39a2882286286288618219269860820926885f7ee8a1975e76d965979c6ec925975b6aa965965a669965965a66996596585e89e585165e68a185165a58a185165a68a185d659679d75d651475d75d559861966975d665965955966\\n' @\n",
      "{'wlan.vht.compressed_beamforming_report': 'f6d5d149286184d04107dd830f3ef8a0830e3ae8a0830d36d860830c32c8e0820a2aa9a0820a2a9960924822882482071e69e491461a69a49145125820914412492491420a29a490410619649040020924903ffee8a38f3df6d8638f3cf2c9e38e3bea98638e3ae698638e38e278e38d36da68a37d35d6471f8d33ce38e37cf4cd37e38c32ca18637cf0c107df7bf0bdf8a28b2eb6d75e7bedb1c8e27aeba9a79e8aeaa998628a29a688228a289e88de79e8a1771e8a28a288e289269e78e289279a5862892592482289648e39a2882286286288618219269860820926885f7ee8a1975e76d965979c6ec925975b6aa965965a669965965a66996596585e89e585165e68a185165a58a185165a68a185d659679d75d651475d75d559861966975d665965955966', 'wlan.vht.mimo_control.control': '0xa08489', 'wlan.da': '60:3a:af:1b:08:93', 'wlan.sa': '12:7c:61:36:fc:c2', 'frame.time_epoch': '1718394810.992748745'}\n",
      "[ Packet ]: [ PackProc ][ [ VHT ] ] from 2024-08-24 08:27:53.225345 with content:\n",
      "b'1718394811.399057184\\t12:7c:61:36:fc:c2\\t60:3a:af:1b:08:93\\t0xa48489\\tf6d4bceebaebaebae6aa6baebaeaaa6baebae69a6baeb9e29a6baeb9e69a6baeb9e27aebadb7de7aebadb7de7a2baeb8e27a2baeb8de7aa7adb6da6aabadb7de6aebadb6da6aabadb6da69679db5d64a2badb4d24a6b9d75d24927ad74d23aebac73ce3ae79c73ca39e79c72ca29a79c72ca29679c72ca29a7acb2c619679c71c6196bacb1c62aabacb1c2faea9b70c209e79bafc20aebab70c6092bac70c20927acafbefaeaabafbefa2a9cafbe0aeb9bafc20aebabb0c20a2b9c70bae9a69baebefaeaab6fbee9aaabaeb6ea6a9b6ebad9669b6caec96abbadb2db2eababaecaeaaaacb2ca6aabacb2caaebaeaaa8b2ecae79a5b6ea9a79e8a26aaa89e9b6aaa68aa9ae6a9a9a69a669b2cb6e81e6cb0bdd5164b6aa9a5d65a6ebde4d24b6badd5d64b72d964\\n' @\n",
      "{'wlan.vht.compressed_beamforming_report': 'f6d4bceebaebaebae6aa6baebaeaaa6baebae69a6baeb9e29a6baeb9e69a6baeb9e27aebadb7de7aebadb7de7a2baeb8e27a2baeb8de7aa7adb6da6aabadb7de6aebadb6da6aabadb6da69679db5d64a2badb4d24a6b9d75d24927ad74d23aebac73ce3ae79c73ca39e79c72ca29a79c72ca29679c72ca29a7acb2c619679c71c6196bacb1c62aabacb1c2faea9b70c209e79bafc20aebab70c6092bac70c20927acafbefaeaabafbefa2a9cafbe0aeb9bafc20aebabb0c20a2b9c70bae9a69baebefaeaab6fbee9aaabaeb6ea6a9b6ebad9669b6caec96abbadb2db2eababaecaeaaaacb2ca6aabacb2caaebaeaaa8b2ecae79a5b6ea9a79e8a26aaa89e9b6aaa68aa9ae6a9a9a69a669b2cb6e81e6cb0bdd5164b6aa9a5d65a6ebde4d24b6badd5d64b72d964', 'wlan.vht.mimo_control.control': '0xa48489', 'wlan.da': '60:3a:af:1b:08:93', 'wlan.sa': '12:7c:61:36:fc:c2', 'frame.time_epoch': '1718394811.399057184'}\n",
      "[ Packet ]: [ PackProc ][ [ VHT ] ] from 2024-08-24 08:27:53.225346 with content:\n",
      "b'1718394811.805750536\\t12:7c:61:36:fc:c2\\t60:3a:af:1b:08:93\\t0xa88489\\tf6d98f3ef9e8a350420ae9a38f3efaa8a38e3aeae8a34e3ae928a38c2aaaa8a24a2aa9a8928a2a9a68a288228a28a288227ae8b1c71a6baca1861a4ae8a0830a2ae8a0830a2aa8a081060a28a080060a28a080feeaabafbefaeaabaf7df6d9279f7cf6c9279f7ceea9a79e7aeaa9a79eb9e68a2baeb9e28a2baeb7de7aab9d76da69679d75d649e79c74d239e79c73ce29a79c72c21bafacb2ca1aa79c71c608279cafbefae69b6fbed9669badbae9aaabaebef9a69b6dbad92aab6db6d9669b6cb6d9269b6cb2b9e69a6aa69926aaa8a27aeaa9679e79a699679e8a2aaaa9a69b2aaaa89a49a6a8e1861b72c8e38a3baeb8e2862b6ea8a28a1aeaa7a07eeae9a7607ae965975c76ea65871e7ef81d78df79d61d77dc6db6d9669a6db5d5665b71a6d9669b69a7\\n' @\n",
      "{'wlan.vht.compressed_beamforming_report': 'f6d98f3ef9e8a350420ae9a38f3efaa8a38e3aeae8a34e3ae928a38c2aaaa8a24a2aa9a8928a2a9a68a288228a28a288227ae8b1c71a6baca1861a4ae8a0830a2ae8a0830a2aa8a081060a28a080060a28a080feeaabafbefaeaabaf7df6d9279f7cf6c9279f7ceea9a79e7aeaa9a79eb9e68a2baeb9e28a2baeb7de7aab9d76da69679d75d649e79c74d239e79c73ce29a79c72c21bafacb2ca1aa79c71c608279cafbefae69b6fbed9669badbae9aaabaebef9a69b6dbad92aab6db6d9669b6cb6d9269b6cb2b9e69a6aa69926aaa8a27aeaa9679e79a699679e8a2aaaa9a69b2aaaa89a49a6a8e1861b72c8e38a3baeb8e2862b6ea8a28a1aeaa7a07eeae9a7607ae965975c76ea65871e7ef81d78df79d61d77dc6db6d9669a6db5d5665b71a6d9669b69a7', 'wlan.vht.mimo_control.control': '0xa88489', 'wlan.da': '60:3a:af:1b:08:93', 'wlan.sa': '12:7c:61:36:fc:c2', 'frame.time_epoch': '1718394811.805750536'}\n",
      "[ Packet ]: [ PackProc ][ [ VHT ] ] from 2024-08-24 08:27:53.225348 with content:\n",
      "b'1718394812.208585356\\t12:7c:61:36:fc:c2\\t60:3a:af:1b:08:93\\t0xac8489\\tf1d3c929b824834b2eb8a0820a2aa8a0824a2a996492471a68e091471e79e491871e69a49145165a249144124924a185124928a1830e3ae8a0830a1a68a080061a68a080020ae8afbffeeaabafbefada6bafbdf2ca2bafbbeebaabaebaeaaa6baebaeaaa679e79e2892baeb8de7aebadb7da6a679d75d6596badb5d64a2b9d74ce29abacb1c61a2b9c70c209e79b6fbae9a69b6fb6da6aabadbaeaaaabadb6da2aabadb2ca2aabacaeb9269babaeca2aabadb6ea669b6eb6c926ababaaba2aab6baab9aaaaa9a69a2aaa68a69aaaaa69a699ea9968a689269a689e6aaaa9a5925a26a964922a2aa8a1820a62886186192aa89f7aeae9a79f7ee965975c72b925975c72b9a5961a66982176d86197dd669b6da6dd66da6587d9659761761d76996157d955586185\\n' @\n",
      "{'wlan.vht.compressed_beamforming_report': 'f1d3c929b824834b2eb8a0820a2aa8a0824a2a996492471a68e091471e79e491871e69a49145165a249144124924a185124928a1830e3ae8a0830a1a68a080061a68a080020ae8afbffeeaabafbefada6bafbdf2ca2bafbbeebaabaebaeaaa6baebaeaaa679e79e2892baeb8de7aebadb7da6a679d75d6596badb5d64a2b9d74ce29abacb1c61a2b9c70c209e79b6fbae9a69b6fb6da6aabadbaeaaaabadb6da2aabadb2ca2aabacaeb9269babaeca2aabadb6ea669b6eb6c926ababaaba2aab6baab9aaaaa9a69a2aaa68a69aaaaa69a699ea9968a689269a689e6aaaa9a5925a26a964922a2aa8a1820a62886186192aa89f7aeae9a79f7ee965975c72b925975c72b9a5961a66982176d86197dd669b6da6dd66da6587d9659761761d76996157d955586185', 'wlan.vht.mimo_control.control': '0xac8489', 'wlan.da': '60:3a:af:1b:08:93', 'wlan.sa': '12:7c:61:36:fc:c2', 'frame.time_epoch': '1718394812.208585356'}\n",
      "[ Packet ]: [ PackProc ][ [ VHT ] ] from 2024-08-24 08:27:53.225349 with content:\n",
      "b'1718394812.614101604\\t12:7c:61:36:fc:c2\\t60:3a:af:1b:08:93\\t0xb08489\\tf1d4451a7964a2471e79a491041658608145124824914412492491030e382091440e39e090030a28a080020a28e080420a28a0904106196490410619648001020820807ffef9e79f7ffef9a79f7ef6c9278f3cf2c8279f7beeb9e79e7beea8a78e79e689279e78e289e79d37de78a79db6d649679d75d659279d74d248e38c33ce28678c31c618638c6fbee9a69b6eb6d9669b2db2c9269b6baeb9e28a2bae98228a28a2979e7aeaa5975e7ae79d87da79e699665a69a595569a69a595665a69a595569a596695561a69a28936da68a491465a69a491451a696289269658a295561a69a48d26da68a389369658607df595475e75d491472081f41148207df48d37a074f289379c68d309279d78f145279e7c03ce37e078024a28a28432ce38a288130e38e08003\\n' @\n",
      "{'wlan.vht.compressed_beamforming_report': 'f1d4451a7964a2471e79a491041658608145124824914412492491030e382091440e39e090030a28a080020a28e080420a28a0904106196490410619648001020820807ffef9e79f7ffef9a79f7ef6c9278f3cf2c8279f7beeb9e79e7beea8a78e79e689279e78e289e79d37de78a79db6d649679d75d659279d74d248e38c33ce28678c31c618638c6fbee9a69b6eb6d9669b2db2c9269b6baeb9e28a2bae98228a28a2979e7aeaa5975e7ae79d87da79e699665a69a595569a69a595665a69a595569a596695561a69a28936da68a491465a69a491451a696289269658a295561a69a48d26da68a389369658607df595475e75d491472081f41148207df48d37a074f289379c68d309279d78f145279e7c03ce37e078024a28a28432ce38a288130e38e08003', 'wlan.vht.mimo_control.control': '0xb08489', 'wlan.da': '60:3a:af:1b:08:93', 'wlan.sa': '12:7c:61:36:fc:c2', 'frame.time_epoch': '1718394812.614101604'}\n",
      "[ Packet ]: [ PackProc ][ [ VHT ] ] from 2024-08-24 08:27:53.225350 with content:\n",
      "b'1718394813.029785462\\t12:7c:61:36:fc:c2\\t60:3a:af:1b:08:93\\t0xb48489\\tedcfeaa9a8a27aeaa9b7de7aebb1c71e7becadc71e6bacb5f61a6cb0c1165b6cb0c1061b6cf0c5165b6cf1c5175f7c31ca179f7c33ca371f7d34d238e37cf3cd379f7c33ca28a38c32ca28a38c33ce38e38c33ce28a38c32ca28a38c32ca18638c71c619679c71c208e39b6fbee9a69b6fbe09e79b6fbee9669b6eb6d9669b6db6e9669b6db2c9269b6caec9eaaaabaeb9e69a2ba288228a28a6985e8ae9a587228ae8a1875e7ae9a9975a7aa9a9a65a6aaaa9a6965aaaada6965a6aada5d25a6badb5165b2cb5d4925b6ebde5965b6db5c6165b6cb5d5965b6fb5f5d66baebdf65a6b6cb5c5964b6db5d5525b6db5c55a5b6db9f5165b6aa994923a2cade4965b6eb924d73cf1cc234b1cb4d0530f4d36dda4934e3be9a3cf3ef9e483534d36d964d34d38e184\\n' @\n",
      "{'wlan.vht.compressed_beamforming_report': 'edcfeaa9a8a27aeaa9b7de7aebb1c71e7becadc71e6bacb5f61a6cb0c1165b6cb0c1061b6cf0c5165b6cf1c5175f7c31ca179f7c33ca371f7d34d238e37cf3cd379f7c33ca28a38c32ca28a38c33ce38e38c33ce28a38c32ca28a38c32ca18638c71c619679c71c208e39b6fbee9a69b6fbe09e79b6fbee9669b6eb6d9669b6db6e9669b6db2c9269b6caec9eaaaabaeb9e69a2ba288228a28a6985e8ae9a587228ae8a1875e7ae9a9975a7aa9a9a65a6aaaa9a6965aaaada6965a6aada5d25a6badb5165b2cb5d4925b6ebde5965b6db5c6165b6cb5d5965b6fb5f5d66baebdf65a6b6cb5c5964b6db5d5525b6db5c55a5b6db9f5165b6aa994923a2cade4965b6eb924d73cf1cc234b1cb4d0530f4d36dda4934e3be9a3cf3ef9e483534d36d964d34d38e184', 'wlan.vht.mimo_control.control': '0xb48489', 'wlan.da': '60:3a:af:1b:08:93', 'wlan.sa': '12:7c:61:36:fc:c2', 'frame.time_epoch': '1718394813.029785462'}\n",
      "[ Packet ]: [ PackProc ][ [ VHT ] ] from 2024-08-24 08:27:53.225351 with content:\n",
      "b'1718394813.451967393\\t12:7c:61:36:fc:c2\\t60:3a:af:1b:08:93\\t0xb88489\\tedcbc925a75c72ca2db79c820a269924820822886082c71d87a081061e58a4914722896492481e6aa8a1861a5a28a184123ae8a0c20e2aecb0c20a1a68b0c1061b2cb0fffafbabafbefefaafbffffaeb2fbffceebbafbefaeaaa6bbef9e28b2fbeb8e28a2fbef8e29a6baeb9e68aabadb6d64a6badb4d65aabadb5d65a6badb5d64a279d74ce39238d34d258279d34d248238d34d247238d33ce38238d34d658638d35d658638d35d648238d34d248638d35d248238d34d248639d75d239e79c73ce39a79c72ca19679c71c619679c72c61967acb0c2f9eaabafbef9ea9b6fbee9a69b6db6d9669b6db6d9669b6db2c9269b6cb2c9e69a6baea9a69a6aaaa9a69a69a699269a69a69a26aa69a299669a69a279a699669a69a6996596492699639239e698638e39\\n' @\n",
      "{'wlan.vht.compressed_beamforming_report': 'edcbc925a75c72ca2db79c820a269924820822886082c71d87a081061e58a4914722896492481e6aa8a1861a5a28a184123ae8a0c20e2aecb0c20a1a68b0c1061b2cb0fffafbabafbefefaafbffffaeb2fbffceebbafbefaeaaa6bbef9e28b2fbeb8e28a2fbef8e29a6baeb9e68aabadb6d64a6badb4d65aabadb5d65a6badb5d64a279d74ce39238d34d258279d34d248238d34d247238d33ce38238d34d658638d35d658638d35d648238d34d248638d35d248238d34d248639d75d239e79c73ce39a79c72ca19679c71c619679c72c61967acb0c2f9eaabafbef9ea9b6fbee9a69b6db6d9669b6db6d9669b6db2c9269b6cb2c9e69a6baea9a69a6aaaa9a69a69a699269a69a69a26aa69a299669a69a279a699669a69a6996596492699639239e698638e39', 'wlan.vht.mimo_control.control': '0xb88489', 'wlan.da': '60:3a:af:1b:08:93', 'wlan.sa': '12:7c:61:36:fc:c2', 'frame.time_epoch': '1718394813.451967393'}\n",
      "[ Packet ]: [ PackProc ][ [ VHT ] ] from 2024-08-24 08:27:53.225352 with content:\n",
      "b'1718394813.643383988\\t12:7c:61:36:fc:c2\\t60:3a:af:1b:08:93\\t0xbc8409\\t0aebaaaaaaaaaaa9a69a2aaaa8a28a2aaaa89e7aeaa9a69a6aaaa9a5964a2aa9a38e3aeaa8638a2966a8a0820a2aa85f7ef9a5a75e7ad965975d72c925975c72b9e596\\n' @\n",
      "{'wlan.vht.compressed_beamforming_report': '0aebaaaaaaaaaaa9a69a2aaaa8a28a2aaaa89e7aeaa9a69a6aaaa9a5964a2aa9a38e3aeaa8638a2966a8a0820a2aa85f7ef9a5a75e7ad965975d72c925975c72b9e596', 'wlan.vht.mimo_control.control': '0xbc8409', 'wlan.da': '60:3a:af:1b:08:93', 'wlan.sa': '12:7c:61:36:fc:c2', 'frame.time_epoch': '1718394813.643383988'}\n"
     ]
    }
   ],
   "source": [
    "for x in tx.m_data:\n",
    "    print(x)"
   ]
  }
 ],
 "metadata": {
  "kernelspec": {
   "display_name": ".venv",
   "language": "python",
   "name": "python3"
  },
  "language_info": {
   "codemirror_mode": {
    "name": "ipython",
    "version": 3
   },
   "file_extension": ".py",
   "mimetype": "text/x-python",
   "name": "python",
   "nbconvert_exporter": "python",
   "pygments_lexer": "ipython3",
   "version": "3.10.12"
  }
 },
 "nbformat": 4,
 "nbformat_minor": 2
}
